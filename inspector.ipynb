{
 "cells": [
  {
   "cell_type": "code",
   "execution_count": 3,
   "metadata": {},
   "outputs": [],
   "source": [
    "from pydrake.all import ModelVisualizer, StartMeshcat, PackageMap\n",
    "\n",
    "from manipulation import running_as_notebook"
   ]
  },
  {
   "cell_type": "code",
   "execution_count": 4,
   "metadata": {},
   "outputs": [
    {
     "name": "stderr",
     "output_type": "stream",
     "text": [
      "INFO:drake:Meshcat listening for connections at http://localhost:7002\n"
     ]
    }
   ],
   "source": [
    "# Start the visualizer.\n",
    "meshcat = StartMeshcat()"
   ]
  },
  {
   "cell_type": "code",
   "execution_count": 5,
   "metadata": {},
   "outputs": [
    {
     "name": "stderr",
     "output_type": "stream",
     "text": [
      "INFO:drake:Click 'Stop Running' or press Esc to quit\n"
     ]
    }
   ],
   "source": [
    "# First pick your robot by un-commenting one of these:\n",
    "# robot = \"Kuka LBR iiwa 7\"\n",
    "# robot = \"Kuka LBR iiwa 14\"\n",
    "# robot = \"Kinova Jaco Gen2 (7 DoF)\"\n",
    "robot = \"Franka Emika Panda\"\n",
    "# robot = \"UR3e\"\n",
    "\n",
    "\n",
    "def get_model_url(description):\n",
    "    # Note: I could download remote model resources here if necessary.\n",
    "    if description == \"Kuka LBR iiwa 7\":\n",
    "        return \"package://drake/manipulation/models/iiwa_description/iiwa7/iiwa7_with_box_collision.sdf\"\n",
    "    elif description == \"Kuka LBR iiwa 14\":\n",
    "        return \"package://drake/manipulation/models/iiwa_description/urdf/iiwa14_primitive_collision.urdf\"\n",
    "    elif description == \"Kinova Jaco Gen2 (7 DoF)\":\n",
    "        return \"package://drake/manipulation/models/jaco_description/urdf/j2s7s300.urdf\"\n",
    "    elif description == \"Franka Emika Panda\":\n",
    "        return \"package://drake/manipulation/models/franka_description/urdf/panda_arm_hand.urdf\"\n",
    "    elif description == \"UR3e\":\n",
    "        return \"package://drake/manipulation/models/ur3e/ur3e_cylinders_collision.urdf\"\n",
    "    raise Exception(\"Unknown model\")\n",
    "\n",
    "\n",
    "visualizer = ModelVisualizer(meshcat=meshcat)\n",
    "visualizer.AddModels(url=get_model_url(robot))\n",
    "\n",
    "visualizer.Run(loop_once=not running_as_notebook)\n",
    "meshcat.DeleteAddedControls()"
   ]
  },
  {
   "cell_type": "code",
   "execution_count": 6,
   "metadata": {},
   "outputs": [
    {
     "name": "stderr",
     "output_type": "stream",
     "text": [
      "INFO:drake:Click 'Stop Running' or press Esc to quit\n"
     ]
    }
   ],
   "source": [
    "meshcat.Delete()\n",
    "\n",
    "visualizer = ModelVisualizer(meshcat=meshcat)\n",
    "visualizer.AddModels(\n",
    "    url=\"package://drake/manipulation/models/allegro_hand_description/sdf/allegro_hand_description_right.sdf\"\n",
    ")\n",
    "\n",
    "visualizer.Run(loop_once=not running_as_notebook)\n",
    "\n",
    "meshcat.DeleteAddedControls()"
   ]
  }
 ],
 "metadata": {
  "kernelspec": {
   "display_name": "env",
   "language": "python",
   "name": "python3"
  },
  "language_info": {
   "codemirror_mode": {
    "name": "ipython",
    "version": 3
   },
   "file_extension": ".py",
   "mimetype": "text/x-python",
   "name": "python",
   "nbconvert_exporter": "python",
   "pygments_lexer": "ipython3",
   "version": "3.11.3"
  }
 },
 "nbformat": 4,
 "nbformat_minor": 2
}
