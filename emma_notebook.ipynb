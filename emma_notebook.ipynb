{
 "cells": [
  {
   "cell_type": "code",
   "execution_count": 2,
   "metadata": {},
   "outputs": [
    {
     "name": "stdout",
     "output_type": "stream",
     "text": [
      "[1, 2, 3, 4, 5, 6]\n",
      "7\n"
     ]
    },
    {
     "ename": "NameError",
     "evalue": "name 'sy' is not defined",
     "output_type": "error",
     "traceback": [
      "\u001b[0;31m---------------------------------------------------------------------------\u001b[0m",
      "\u001b[0;31mNameError\u001b[0m                                 Traceback (most recent call last)",
      "\u001b[1;32m/home/christy/Downloads/JengaBot/emma_notebook.ipynb Cell 1\u001b[0m line \u001b[0;36m4\n\u001b[1;32m     <a href='vscode-notebook-cell:/home/christy/Downloads/JengaBot/emma_notebook.ipynb#W0sZmlsZQ%3D%3D?line=44'>45</a>\u001b[0m p \u001b[39m=\u001b[39m \u001b[39mlen\u001b[39m(\u001b[39minput\u001b[39m)\u001b[39m+\u001b[39m\u001b[39m1\u001b[39m\n\u001b[1;32m     <a href='vscode-notebook-cell:/home/christy/Downloads/JengaBot/emma_notebook.ipynb#W0sZmlsZQ%3D%3D?line=45'>46</a>\u001b[0m \u001b[39mprint\u001b[39m(p)\n\u001b[0;32m---> <a href='vscode-notebook-cell:/home/christy/Downloads/JengaBot/emma_notebook.ipynb#W0sZmlsZQ%3D%3D?line=46'>47</a>\u001b[0m g \u001b[39m=\u001b[39m findGenerator(p)\n\u001b[1;32m     <a href='vscode-notebook-cell:/home/christy/Downloads/JengaBot/emma_notebook.ipynb#W0sZmlsZQ%3D%3D?line=47'>48</a>\u001b[0m \u001b[39mprint\u001b[39m(g)\n\u001b[1;32m     <a href='vscode-notebook-cell:/home/christy/Downloads/JengaBot/emma_notebook.ipynb#W0sZmlsZQ%3D%3D?line=48'>49</a>\u001b[0m output \u001b[39m=\u001b[39m rearrange(\u001b[39minput\u001b[39m, g, p)\n",
      "\u001b[1;32m/home/christy/Downloads/JengaBot/emma_notebook.ipynb Cell 1\u001b[0m line \u001b[0;36m5\n\u001b[1;32m      <a href='vscode-notebook-cell:/home/christy/Downloads/JengaBot/emma_notebook.ipynb#W0sZmlsZQ%3D%3D?line=2'>3</a>\u001b[0m \u001b[39mdef\u001b[39;00m \u001b[39mfindGenerator\u001b[39m(n):\n\u001b[1;32m      <a href='vscode-notebook-cell:/home/christy/Downloads/JengaBot/emma_notebook.ipynb#W0sZmlsZQ%3D%3D?line=3'>4</a>\u001b[0m     phi \u001b[39m=\u001b[39m n \u001b[39m-\u001b[39m \u001b[39m1\u001b[39m\n\u001b[0;32m----> <a href='vscode-notebook-cell:/home/christy/Downloads/JengaBot/emma_notebook.ipynb#W0sZmlsZQ%3D%3D?line=4'>5</a>\u001b[0m     prime_factors \u001b[39m=\u001b[39m sy\u001b[39m.\u001b[39mprimefactors(phi)\n\u001b[1;32m      <a href='vscode-notebook-cell:/home/christy/Downloads/JengaBot/emma_notebook.ipynb#W0sZmlsZQ%3D%3D?line=6'>7</a>\u001b[0m     \u001b[39mfor\u001b[39;00m i \u001b[39min\u001b[39;00m \u001b[39mrange\u001b[39m(\u001b[39m2\u001b[39m, n):\n\u001b[1;32m      <a href='vscode-notebook-cell:/home/christy/Downloads/JengaBot/emma_notebook.ipynb#W0sZmlsZQ%3D%3D?line=7'>8</a>\u001b[0m         is_generator \u001b[39m=\u001b[39m \u001b[39mTrue\u001b[39;00m\n",
      "\u001b[0;31mNameError\u001b[0m: name 'sy' is not defined"
     ]
    }
   ],
   "source": [
    "# This corresponds to step 4 \n",
    "#Helper Function 1 --> Finding the Group Generator\n",
    "def findGenerator(n):\n",
    "    phi = n - 1\n",
    "    prime_factors = sy.primefactors(phi)\n",
    "\n",
    "    for i in range(2, n):\n",
    "        is_generator = True\n",
    "        for j in prime_factors:\n",
    "            if pow(i, phi // j, n) == 1:\n",
    "                is_generator = False\n",
    "                break\n",
    "        if is_generator:\n",
    "            return i\n",
    "        return -1\n",
    "# Helper Function 2 --> Reordering  input data AND reordering output of the DFT when g = g_inv\n",
    "\n",
    "# a_q = h_(g^q), g is group generator, p is prime length\n",
    "def rearrange(input, g, p):\n",
    "  n = len(input)\n",
    "  # create an empty array to store the new index in\n",
    "  index = [0] * n\n",
    "  # this gives us the new indexing which we'd like to apply to our input sequence -- for r in 0 to p-1, we compute g^(q mod p)\n",
    "  for q in range(n):\n",
    "    index[q] = pow(g, q, p) - 1\n",
    "\n",
    "  # create array to store intermediate values \n",
    "  re = [0] * n\n",
    "\n",
    "  # assign the appropriate value of the input array to the intermediate array, as indexed by g^(q mod p)\n",
    "  for q in range(n):\n",
    "    re[int(index[q])] = input[q]\n",
    "  \n",
    "  # copy the values back to the input array\n",
    "  for q in range(n):\n",
    "    input[q] = re[q]\n",
    "  return input\n",
    "  \n",
    "  \n",
    "  \n",
    "  # This is the test code I ran:\n",
    "  # x = 7 is the first length for which this doesn't work\n",
    "input = [1,2,3,4,5,6]\n",
    "print(input)\n",
    "p = len(input)+1\n",
    "print(p)\n",
    "g = findGenerator(p)\n",
    "print(g)\n",
    "output = rearrange(input, g, p)\n",
    "print(output)"
   ]
  }
 ],
 "metadata": {
  "kernelspec": {
   "display_name": "manipenv",
   "language": "python",
   "name": "python3"
  },
  "language_info": {
   "codemirror_mode": {
    "name": "ipython",
    "version": 3
   },
   "file_extension": ".py",
   "mimetype": "text/x-python",
   "name": "python",
   "nbconvert_exporter": "python",
   "pygments_lexer": "ipython3",
   "version": "3.11.4"
  }
 },
 "nbformat": 4,
 "nbformat_minor": 2
}
