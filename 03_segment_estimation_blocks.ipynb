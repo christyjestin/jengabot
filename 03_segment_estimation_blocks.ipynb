{
 "cells": [
  {
   "cell_type": "markdown",
   "metadata": {},
   "source": [
    "# Perception\n",
    "\n",
    "# Segmentation and Pose Estimation of Individual Blocks from RGB-D Cameras\n",
    "\n",
    "Object segmentation is a fundamental component of practically every end-to-end manipulation system. Several cameras will be used to prevent occlusion and partial views. We will likely use a neural network for point cloud segmentation.\n",
    "\n",
    "Once the individual blocks are segmented, their unique position, orientation, and velocity of each block must be estimated. Geometric pose estimation will be used to obtain the positions and orientations. Velocity estimation is not crucial because the blocks are nearly always static unless the tower is toppling."
   ]
  },
  {
   "cell_type": "markdown",
   "metadata": {},
   "source": [
    "- For each block, a six element vector will be used to represent its pose. The first three elements will be the position in the world frame, and the last three elements will be the orientation in the world frame. The orientation will be represented as a quaternion."
   ]
  },
  {
   "cell_type": "markdown",
   "metadata": {},
   "source": [
    "- Another data structure is a boolean list. For each position in the tower, True or False for if the block is there."
   ]
  },
  {
   "cell_type": "markdown",
   "metadata": {},
   "source": []
  }
 ],
 "metadata": {
  "language_info": {
   "name": "python"
  }
 },
 "nbformat": 4,
 "nbformat_minor": 2
}
