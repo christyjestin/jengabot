{
 "cells": [
  {
   "cell_type": "markdown",
   "metadata": {},
   "source": [
    "# 10 - Gameplay and Decision Making"
   ]
  },
  {
   "cell_type": "code",
   "execution_count": 1,
   "metadata": {},
   "outputs": [],
   "source": [
    "from constants import *\n",
    "import numpy as np"
   ]
  },
  {
   "cell_type": "code",
   "execution_count": 2,
   "metadata": {},
   "outputs": [],
   "source": [
    "# Both center of mass calculations only need to consider every other layer (the axis aligned ones)\n",
    "# because the others are balanced regardless of which blocks are left\n",
    "# In any axis aligned layer, blocks 1, 2, and 3 have centers at -1, 0, and 1 respectively if we\n",
    "# place the origin and the z-axis at the center of the stack and use one block width as our unit distance\n",
    "def compute_cm(stack, compute_x, bottom_layer = 0):\n",
    "    assert bottom_layer < stack.shape[0], \\\n",
    "        f\"The stack is too short ({stack.shape[0]}) for a bottom layer at {bottom_layer}\"\n",
    "    num_blocks = np.sum(stack[bottom_layer:])\n",
    "\n",
    "    b = bottom_layer\n",
    "    even, odd = (b + 1, b) if (b % 2) else (b, b + 1)\n",
    "    # start on an even layer that goes in the x direction or an odd layer that goes in the y direction\n",
    "    start_layer = even if compute_x else odd\n",
    "    # skip non-aligned layers\n",
    "    return np.sum(stack[start_layer::2] * BLOCK_POSITIONS) / num_blocks\n",
    "\n",
    "def compute_x_cm(stack, bottom_layer = 0):\n",
    "    return compute_cm(stack, compute_x = True, bottom_layer = bottom_layer)\n",
    "\n",
    "def compute_y_cm(stack, bottom_layer = 0):\n",
    "    return compute_cm(stack, compute_x = False, bottom_layer = bottom_layer)"
   ]
  },
  {
   "cell_type": "code",
   "execution_count": 7,
   "metadata": {},
   "outputs": [],
   "source": [
    "def within_support_polygon(cm, layer):\n",
    "    if np.all(layer == 0):\n",
    "        return False\n",
    "    idx = np.where(layer)[0]\n",
    "    return LEFT_POSITIONS[idx[0]] <= cm <= RIGHT_POSITIONS[idx[-1]]\n",
    "\n",
    "def validate_removals(stack, moves):\n",
    "    x_cms = [compute_x_cm(stack, bottom_layer = b) for b in range(stack.shape[0])]\n",
    "    y_cms = [compute_y_cm(stack, bottom_layer = b) for b in range(stack.shape[0])]\n",
    "    blocks_above_layer = np.append(np.cumsum(np.sum(stack, axis = 1))[::-1], 0)[1:]\n",
    "\n",
    "    output = []\n",
    "    # ensure that the tower won't topple if the block is removed\n",
    "    for move in possible_moves:\n",
    "        block_layer, block_index = move\n",
    "        valid_for_layers_below = True\n",
    "        # check all layers below removed block to ensure the center of mass won't shift too much\n",
    "        for layer_below in range(block_layer):\n",
    "            # check x_cm if layer below is even and y_cm if layer below is odd\n",
    "            old_cm = x_cms[layer_below + 1] if (layer_below % 2) else y_cms[layer_below + 1]\n",
    "            n = blocks_above_layer[layer_below]\n",
    "            new_cm = old_cm * (n / (n - 1))\n",
    "            # if the axes are not aligned, then the contribution of the block to\n",
    "            # CM is 0, but we will need to adjust if the axes are aligned\n",
    "            if (block_layer % 2) == (layer_below % 2):\n",
    "                new_cm -= (block_index - 1) / (n - 1)\n",
    "            # the center of mass will fall outside the support polygon, so this move is invalid\n",
    "            if not within_support_polygon(new_cm, stack[layer_below]):\n",
    "                valid_for_layers_below = False\n",
    "                break\n",
    "        # skip over invalid move\n",
    "        if not valid_for_layers_below:\n",
    "            continue\n",
    "\n",
    "        # finally ensure that there's no rug pull\n",
    "        above_cm = (x_cms if (block_layer % 2) else y_cms)[block_layer + 1]\n",
    "        # create layer without the candidate block\n",
    "        layer = stack[block_layer].copy()\n",
    "        layer[block_index] = 0\n",
    "        # move has passed all tests\n",
    "        if within_support_polygon(above_cm, layer):\n",
    "            output.append(move)\n",
    "    return output\n",
    "\n",
    "def find_valid_moves(stack):\n",
    "    height = stack.shape[0]\n",
    "    # can't move blocks from top layer\n",
    "    possible_moves = [(i, j) for (i, j) in np.ndindex(*stack.shape) if (stack[i, j] and i != height - 1)]\n",
    "\n",
    "    # ensure that simply removing the block won't topple the stack\n",
    "    possible_moves = validate_removals(stack, possible_moves)\n",
    "\n",
    "    # add block to top of tower\n",
    "    num_blocks_top_layer = np.sum(stack[-1])\n",
    "    # add new layer\n",
    "    if num_blocks_top_layer == 3:\n",
    "        stack = np.append(stack, np.eye(NUM_BLOCKS_PER_LAYER)[0])\n",
    "    else:\n",
    "        stack[-1, num_blocks_top_layer] = 1\n",
    "\n",
    "    # also ensure that adding the block to the top won't topple the stack\n",
    "    return validate_removals(stack, possible_moves)"
   ]
  },
  {
   "cell_type": "code",
   "execution_count": null,
   "metadata": {},
   "outputs": [],
   "source": [
    "# TODO\n",
    "class Stack:\n",
    "    def __init__(self, num_players):\n",
    "        self.players = [Player(self) for _ in num_players]\n",
    "        self.tower_height = NUM_LAYERS\n",
    "        self.move_count = 0\n",
    "        self.boolean_stack = np.ones(self.tower_height, NUM_BLOCKS_PER_LAYER)\n",
    "\n",
    "    @property\n",
    "    def toppled(self):\n",
    "        return False\n",
    "\n",
    "    @property\n",
    "    def valid_moves(self):\n",
    "        return find_valid_moves(self.boolean_stack)\n",
    "\n",
    "# TODO\n",
    "class Player:\n",
    "    def __init__(self, stack):\n",
    "        self.stack = stack\n",
    "\n",
    "    def move(self):\n",
    "        for move in self.stack.valid_moves:\n",
    "            pass"
   ]
  },
  {
   "cell_type": "code",
   "execution_count": null,
   "metadata": {},
   "outputs": [],
   "source": [
    "stack = Stack()\n",
    "while not stack.toppled:\n",
    "    for player in stack.players:\n",
    "        player.move()\n",
    "        if stack.toppled:\n",
    "            break"
   ]
  }
 ],
 "metadata": {
  "kernelspec": {
   "display_name": "manipenv",
   "language": "python",
   "name": "python3"
  },
  "language_info": {
   "codemirror_mode": {
    "name": "ipython",
    "version": 3
   },
   "file_extension": ".py",
   "mimetype": "text/x-python",
   "name": "python",
   "nbconvert_exporter": "python",
   "pygments_lexer": "ipython3",
   "version": "3.9.7"
  }
 },
 "nbformat": 4,
 "nbformat_minor": 2
}
