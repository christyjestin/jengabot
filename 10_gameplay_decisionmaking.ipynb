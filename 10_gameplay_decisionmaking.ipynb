{
 "cells": [
  {
   "cell_type": "markdown",
   "metadata": {},
   "source": [
    "# Gameplay and Decision Making\n",
    "\n",
    "The computation of the optimal move will be the result of an optimization problem. There are different levels of modeling fidelity that can be incorporated into this optimization problem. The optimization problem is conceptually the following:\n",
    "\n",
    "$$\n",
    "\\begin{align*}\n",
    "    \\min_{i} \\quad -\\left \\lVert \\texttt{Structural stability of the tower} \\right \\rVert \\\\\n",
    "    \\text{s.t.} \\\\\n",
    "    \\texttt{The system remains in static equilibrium.} \\\\\n",
    "    \\texttt{Block $i$ has not been picked yet.}\n",
    "\\end{align*}\n",
    "$$\n",
    "\n",
    "where $i$ is the index of the block. ``Structural stability\" is a concept that can be quantified in different ways. For example, it could be measured in terms of:\n",
    "\n",
    "- The maximum vibration frequency and amplitude that the tower can endure without toppling.\n",
    "- The maximum vertical force that the can be exerted onto any point from above the tower without it toppling.\n",
    "\n",
    "When friction and block dimension deviations are incorporated into the modeling framework, the optimization landscape may change accordingly. The cost function will be modified to account for the more realistic physics. These physical effects may also be incorporated into the constraints of the optimization problem. The bottom line is that the optimal move may likely change due to the completeness of the physics modeling framework."
   ]
  },
  {
   "cell_type": "code",
   "execution_count": null,
   "metadata": {},
   "outputs": [],
   "source": []
  }
 ],
 "metadata": {
  "language_info": {
   "name": "python"
  }
 },
 "nbformat": 4,
 "nbformat_minor": 2
}
