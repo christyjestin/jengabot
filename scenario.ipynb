{
 "cells": [
  {
   "cell_type": "code",
   "execution_count": 6,
   "metadata": {},
   "outputs": [],
   "source": [
    "import os\n",
    "import pydot\n",
    "import numpy as np\n",
    "\n",
    "from pydrake.geometry import StartMeshcat\n",
    "from pydrake.systems.analysis import Simulator\n",
    "from IPython.display import HTML, SVG, display\n",
    "from pydrake.visualization import ModelVisualizer\n",
    "from pydrake.all import (\n",
    "  ConstantVectorSource, \n",
    "  PiecewisePose,  \n",
    "  Simulator, \n",
    "  StartMeshcat, \n",
    "  DiagramBuilder, \n",
    "  MeshcatVisualizer, \n",
    "  namedview,\n",
    "  RigidTransform, \n",
    "  RollPitchYaw, RotationMatrix, LeafSystem, AbstractValue,\n",
    ")\n",
    "from manipulation import running_as_notebook\n",
    "from manipulation.station import MakeHardwareStation, load_scenario\n",
    "from manipulation.meshcat_utils import AddMeshcatTriad\n",
    "from manipulation.scenarios import AddIiwaDifferentialIK\n",
    "# from pydrake.systems.System import CreateDefaultContext\n",
    "\n",
    "from constants import *"
   ]
  },
  {
   "cell_type": "code",
   "execution_count": 7,
   "metadata": {},
   "outputs": [
    {
     "name": "stderr",
     "output_type": "stream",
     "text": [
      "INFO:drake:Meshcat listening for connections at http://localhost:7001\n"
     ]
    }
   ],
   "source": [
    "# Start the visualizer.\n",
    "meshcat = StartMeshcat()"
   ]
  },
  {
   "cell_type": "code",
   "execution_count": 8,
   "metadata": {},
   "outputs": [],
   "source": [
    "def make_stack():\n",
    "    output = ''\n",
    "    for i in range(NUM_LAYERS):\n",
    "        # alternate block orientations\n",
    "        layer_in_x_direction = i % 2 == 0\n",
    "        for j in range(NUM_BLOCKS_PER_LAYER):\n",
    "            x = (BLOCK_WIDTH * (j - 1)) if layer_in_x_direction else 0\n",
    "            y = 0 if layer_in_x_direction else (BLOCK_WIDTH * (j - 1))\n",
    "            z = BLOCK_HEIGHT * (i + 0.5) + TABLE_HEIGHT\n",
    "            orientation = \"{ deg: [0, 0, 0] }\" if layer_in_x_direction else \"{ deg: [0, 0, 90] }\"\n",
    "            output += f\"\"\"\n",
    "- add_model:\n",
    "    name: block_{i * 3 + j}\n",
    "    file: package://jengabot/models/jenga_block.sdf\n",
    "    default_free_body_pose:\n",
    "        jenga_block_link:\n",
    "            translation: [{x}, {y}, {z}]\n",
    "            rotation: !Rpy {orientation}\"\"\"\n",
    "    return output"
   ]
  },
  {
   "cell_type": "code",
   "execution_count": 9,
   "metadata": {},
   "outputs": [],
   "source": [
    "class PoseTrajectorySource(LeafSystem):\n",
    "    def __init__(self, pose_trajectory):\n",
    "        LeafSystem.__init__(self)\n",
    "        self._pose_trajectory = pose_trajectory\n",
    "        self.DeclareAbstractOutputPort(\n",
    "            \"pose\", lambda: AbstractValue.Make(RigidTransform()), self.CalcPose\n",
    "        )\n",
    "\n",
    "    def CalcPose(self, context, output):\n",
    "        output.set_value(self._pose_trajectory.GetPose(context.get_time()))"
   ]
  },
  {
   "cell_type": "code",
   "execution_count": 10,
   "metadata": {},
   "outputs": [],
   "source": [
    "def push_motion(block, num_keyframes):\n",
    "    assert num_keyframes >= 2, \"There must be at least two frames for this motion\"\n",
    "\n",
    "    layer, index = block\n",
    "    layer_in_x_direction = layer % 2 == 0\n",
    "    # hit center of the block's smaller face from the side closer to the Iiwa\n",
    "    if layer_in_x_direction:\n",
    "        target_x = BLOCK_WIDTH * (index - 1)\n",
    "        target_y = BLOCK_LENGTH / 2\n",
    "    else:\n",
    "        target_x = BLOCK_LENGTH / 2\n",
    "        target_y = BLOCK_WIDTH * (index - 1)\n",
    "    target_z = BLOCK_HEIGHT * (layer + 0.5) + TABLE_HEIGHT\n",
    "    start_position = np.array([target_x, target_y, target_z])\n",
    "\n",
    "    # orient the gripper such that it will push out the block if it moves forward\n",
    "    yaw = np.pi if layer_in_x_direction else np.pi * 3 / 2\n",
    "    target_rotation = RollPitchYaw(0, 0, yaw).ToRotationMatrix()\n",
    "\n",
    "    # construct a trajectory that pushes the block out part of the way\n",
    "    shift_direction = np.array([0, 1, 0]) if layer_in_x_direction else np.array([1, 0, 0])\n",
    "    shift = shift_direction * PUSH_FRACTION * BLOCK_LENGTH\n",
    "    frac = lambda i: i / (num_keyframes - 1)\n",
    "    return [RigidTransform(target_rotation, start_position + shift * frac(i)) for i in range(num_keyframes)]"
   ]
  },
  {
   "cell_type": "code",
   "execution_count": 15,
   "metadata": {},
   "outputs": [],
   "source": [
    "def construct_scenario():\n",
    "    scenario_data = \"\"\"\n",
    "directives:\n",
    "- add_model:\n",
    "    name: table_top\n",
    "    file: package://jengabot/models/table_top.sdf\n",
    "- add_weld:\n",
    "    parent: world\n",
    "    child: table_top::table_top_center\n",
    "- add_model:\n",
    "    name: iiwa\n",
    "    file: package://drake/manipulation/models/iiwa_description/iiwa7/iiwa7_no_collision.sdf\n",
    "    default_joint_positions:\n",
    "        iiwa_joint_1: [-1.57]\n",
    "        iiwa_joint_2: [0.1]\n",
    "        iiwa_joint_3: [0]\n",
    "        iiwa_joint_4: [-1.2]\n",
    "        iiwa_joint_5: [0]\n",
    "        iiwa_joint_6: [ 1.6]\n",
    "        iiwa_joint_7: [0]\n",
    "- add_weld:\n",
    "    parent: table_top_link\n",
    "    child: iiwa::iiwa_link_0\n",
    "    X_PC:\n",
    "        translation: [0.35, 0.5, 0.015]\n",
    "- add_model:\n",
    "    name: wsg\n",
    "    file: package://drake/manipulation/models/wsg_50_description/sdf/schunk_wsg_50_with_tip.sdf\n",
    "- add_weld:\n",
    "    parent: iiwa::iiwa_link_7\n",
    "    child: wsg::body\n",
    "    X_PC:\n",
    "        translation: [0, 0, 0.09]\n",
    "        rotation: !Rpy { deg: [90, 0, 90]}\n",
    "\"\"\"\n",
    "\n",
    "    driver_data = \"\"\"\n",
    "model_drivers:\n",
    "    iiwa: !IiwaDriver\n",
    "      hand_model_name: wsg\n",
    "    wsg: !SchunkWsgDriver {}\n",
    "\"\"\"\n",
    "\n",
    "    scenario_data += make_stack()\n",
    "    scenario_data += driver_data\n",
    "    return load_scenario(data = scenario_data)"
   ]
  },
  {
   "cell_type": "code",
   "execution_count": 12,
   "metadata": {},
   "outputs": [],
   "source": [
    "def construct_trajectory():\n",
    "    total_time = 20\n",
    "    num_keyframes = 10\n",
    "    times = np.linspace(0, total_time, num_keyframes)\n",
    "    keyframes = push_motion((3, 0), num_keyframes)\n",
    "    return PiecewisePose.MakeLinear(times, keyframes)"
   ]
  },
  {
   "cell_type": "code",
   "execution_count": 19,
   "metadata": {
    "colab": {},
    "colab_type": "code",
    "id": "9GSF52A8ExQa"
   },
   "outputs": [
    {
     "name": "stderr",
     "output_type": "stream",
     "text": [
      "INFO:drake:Meshcat listening for connections at http://localhost:7005\n",
      "WARNING:drake:Differential IK started returning status:\"stuck\" at time 0.0.\n",
      "==== LCM Warning ===\n",
      "LCM detected that large packets are being received, but the kernel UDP\n",
      "receive buffer is very small.  The possibility of dropping packets due to\n",
      "insufficient buffer space is very high.\n",
      "\n",
      "For more information, visit:\n",
      "   http://lcm-proj.github.io/lcm/multicast_setup.html\n",
      "\n",
      "==== LCM Warning ===\n",
      "LCM detected that large packets are being received, but the kernel UDP\n",
      "receive buffer is very small.  The possibility of dropping packets due to\n",
      "insufficient buffer space is very high.\n",
      "\n",
      "For more information, visit:\n",
      "   http://lcm-proj.github.io/lcm/multicast_setup.html\n",
      "\n",
      "==== LCM Warning ===\n",
      "LCM detected that large packets are being received, but the kernel UDP\n",
      "receive buffer is very small.  The possibility of dropping packets due to\n",
      "insufficient buffer space is very high.\n",
      "\n",
      "For more information, visit:\n",
      "   http://lcm-proj.github.io/lcm/multicast_setup.html\n",
      "\n",
      "==== LCM Warning ===\n",
      "LCM detected that large packets are being received, but the kernel UDP\n",
      "receive buffer is very small.  The possibility of dropping packets due to\n",
      "insufficient buffer space is very high.\n",
      "\n",
      "For more information, visit:\n",
      "   http://lcm-proj.github.io/lcm/multicast_setup.html\n",
      "\n"
     ]
    },
    {
     "data": {
      "text/plain": [
       "<pydrake.systems.analysis.SimulatorStatus at 0x7fd550d1a0f0>"
      ]
     },
     "execution_count": 19,
     "metadata": {},
     "output_type": "execute_result"
    }
   ],
   "source": [
    "scenario = construct_scenario()\n",
    "builder = DiagramBuilder()\n",
    "\n",
    "station = builder.AddSystem(MakeHardwareStation(scenario, package_xmls=['./package.xml']))\n",
    "plant = station.GetSubsystemByName(\"plant\")\n",
    "controller_plant = station.GetSubsystemByName(\"iiwa.controller\").get_multibody_plant_for_control()\n",
    "\n",
    "visualizer = MeshcatVisualizer.AddToBuilder(builder, station.GetOutputPort(\"query_object\"), meshcat)\n",
    "\n",
    "traj_source = builder.AddSystem(PoseTrajectorySource(construct_trajectory()))\n",
    "controller = AddIiwaDifferentialIK(builder, controller_plant, frame=controller_plant.GetFrameByName(\"body\"))\n",
    "builder.Connect(traj_source.get_output_port(), controller.get_input_port(0))\n",
    "builder.Connect(station.GetOutputPort(\"iiwa.state_estimated\"), controller.GetInputPort(\"robot_state\"),)\n",
    "builder.Connect(controller.get_output_port(), station.GetInputPort(\"iiwa.position\"))\n",
    "\n",
    "wsg_position = builder.AddSystem(ConstantVectorSource([0]))\n",
    "builder.Connect(wsg_position.get_output_port(), station.GetInputPort(\"wsg.position\"),)\n",
    "\n",
    "diagram = builder.Build()\n",
    "\n",
    "simulator = Simulator(diagram)\n",
    "context = simulator.get_mutable_context()\n",
    "station_context = station.GetMyMutableContextFromRoot(context)\n",
    "plant_context = plant.GetMyMutableContextFromRoot(context)\n",
    "\n",
    "q0 = plant.GetPositions(plant_context, plant.GetModelInstanceByName(\"iiwa\"))\n",
    "station.GetInputPort(\"iiwa.position\").FixValue(station_context, q0)\n",
    "\n",
    "station.GetInputPort(\"wsg.position\").FixValue(station_context, [0])\n",
    "\n",
    "simulator.AdvanceTo(0.1)"
   ]
  },
  {
   "cell_type": "code",
   "execution_count": null,
   "metadata": {
    "colab": {},
    "colab_type": "code",
    "id": "5SjOClhTltPk"
   },
   "outputs": [],
   "source": [
    "# pick central target\n",
    "# push block forward or back\n",
    "# grab firmly and pull out\n",
    "# move without knocking over stack\n",
    "# place on top of stack"
   ]
  },
  {
   "cell_type": "code",
   "execution_count": null,
   "metadata": {},
   "outputs": [],
   "source": [
    "\n",
    "\n",
    "def move(self, sim_duration=20.0):\n",
    "    context = CreateDefaultContext()\n",
    "    simulator = Simulator(diagram, context)\n",
    "    simulator.set_target_realtime_rate(1.0)\n",
    "\n",
    "    duration = sim_duration if running_as_notebook else 0.01\n",
    "    simulator.AdvanceTo(duration)"
   ]
  }
 ],
 "metadata": {
  "colab": {
   "collapsed_sections": [],
   "name": "Robotic Manipulation - Let's get you a robot.ipynb",
   "provenance": [],
   "toc_visible": true
  },
  "kernelspec": {
   "display_name": "Python 3.11.0 64-bit",
   "language": "python",
   "name": "python3"
  },
  "language_info": {
   "codemirror_mode": {
    "name": "ipython",
    "version": 3
   },
   "file_extension": ".py",
   "mimetype": "text/x-python",
   "name": "python",
   "nbconvert_exporter": "python",
   "pygments_lexer": "ipython3",
   "version": "3.11.4"
  },
  "vscode": {
   "interpreter": {
    "hash": "5c7b89af1651d0b8571dde13640ecdccf7d5a6204171d6ab33e7c296e100e08a"
   }
  }
 },
 "nbformat": 4,
 "nbformat_minor": 2
}
