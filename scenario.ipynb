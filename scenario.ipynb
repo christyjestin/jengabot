{
 "cells": [
  {
   "cell_type": "code",
   "execution_count": null,
   "metadata": {},
   "outputs": [],
   "source": [
    "import os\n",
    "import pydot\n",
    "\n",
    "from pydrake.geometry import StartMeshcat\n",
    "from pydrake.systems.analysis import Simulator\n",
    "from IPython.display import HTML, SVG, display\n",
    "from pydrake.visualization import ModelVisualizer\n",
    "from pydrake.all import Simulator, StartMeshcat, DiagramBuilder, MeshcatVisualizer, namedview\n",
    "\n",
    "from manipulation import running_as_notebook\n",
    "from manipulation.station import MakeHardwareStation, load_scenario\n",
    "from manipulation.scenarios import UnitInertia"
   ]
  },
  {
   "cell_type": "code",
   "execution_count": null,
   "metadata": {},
   "outputs": [],
   "source": [
    "# Start the visualizer.\n",
    "meshcat = StartMeshcat()"
   ]
  },
  {
   "cell_type": "code",
   "execution_count": null,
   "metadata": {},
   "outputs": [],
   "source": [
    "def make_stack():\n",
    "    output = ''\n",
    "    num_layers = 18 # actual number is 18, but can use a smaller number to speed up sim setup\n",
    "    num_blocks_per_layer = 3\n",
    "    block_width = 0.05\n",
    "    block_height = 0.03\n",
    "    table_height = 0.03\n",
    "    inertia = UnitInertia.SolidBox(block_width, block_)\n",
    "    for i in range(num_layers):\n",
    "        # alternate block orientations\n",
    "        layer_in_x_direction = i % 2 == 0\n",
    "        for j in range(num_blocks_per_layer):\n",
    "            x = (block_width * (j - 1)) if layer_in_x_direction else 0\n",
    "            y = 0 if layer_in_x_direction else (block_width * (j - 1))\n",
    "            z = block_height * (i + 0.5) + table_height\n",
    "            orientation = \"{ deg: [0, 0, 0] }\" if layer_in_x_direction else \"{ deg: [0, 0, 90] }\"\n",
    "            output += f\"\"\"\n",
    "- add_model:\n",
    "    name: block_{i * 3 + j}\n",
    "    file: package://jengabot/models/jenga_block.sdf\n",
    "    default_free_body_pose:\n",
    "        jenga_block_link:\n",
    "            translation: [{x}, {y}, {z}]\n",
    "            rotation: !Rpy {orientation}\"\"\"\n",
    "    return output"
   ]
  },
  {
   "cell_type": "code",
   "execution_count": 12,
   "metadata": {
    "colab": {},
    "colab_type": "code",
    "id": "9GSF52A8ExQa"
   },
   "outputs": [
    {
     "name": "stderr",
     "output_type": "stream",
     "text": [
      "INFO:drake:Meshcat listening for connections at http://localhost:7009\n",
      "==== LCM Warning ===\n",
      "LCM detected that large packets are being received, but the kernel UDP\n",
      "receive buffer is very small.  The possibility of dropping packets due to\n",
      "insufficient buffer space is very high.\n",
      "\n",
      "For more information, visit:\n",
      "   http://lcm-proj.github.io/lcm/multicast_setup.html\n",
      "\n"
     ]
    },
    {
     "data": {
      "text/plain": [
       "<pydrake.systems.analysis.SimulatorStatus at 0x7f92e852b8b0>"
      ]
     },
     "execution_count": 12,
     "metadata": {},
     "output_type": "execute_result"
    }
   ],
   "source": [
    "scenario_data = \"\"\"\n",
    "directives:\n",
    "- add_model:\n",
    "    name: table_top\n",
    "    file: package://jengabot/models/table_top.sdf\n",
    "- add_weld:\n",
    "    parent: world\n",
    "    child: table_top::table_top_center\n",
    "- add_model:\n",
    "    name: iiwa\n",
    "    file: package://drake/manipulation/models/iiwa_description/iiwa7/iiwa7_no_collision.sdf\n",
    "    default_joint_positions:\n",
    "        iiwa_joint_1: [-1.57]\n",
    "        iiwa_joint_2: [0.1]\n",
    "        iiwa_joint_3: [0]\n",
    "        iiwa_joint_4: [-1.2]\n",
    "        iiwa_joint_5: [0]\n",
    "        iiwa_joint_6: [ 1.6]\n",
    "        iiwa_joint_7: [0]\n",
    "- add_weld:\n",
    "    parent: table_top_link\n",
    "    child: iiwa::iiwa_link_0\n",
    "    X_PC:\n",
    "        translation: [0.2, 0.3, 0.015]\n",
    "- add_model:\n",
    "    name: wsg\n",
    "    file: package://drake/manipulation/models/wsg_50_description/sdf/schunk_wsg_50_with_tip.sdf\n",
    "- add_weld:\n",
    "    parent: iiwa::iiwa_link_7\n",
    "    child: wsg::body\n",
    "    X_PC:\n",
    "        translation: [0, 0, 0.09]\n",
    "        rotation: !Rpy { deg: [90, 0, 90]}\n",
    "\"\"\"\n",
    "\n",
    "driver_data = \"\"\"\n",
    "model_drivers:\n",
    "    iiwa: !IiwaDriver\n",
    "      hand_model_name: wsg\n",
    "    wsg: !SchunkWsgDriver {}\n",
    "\"\"\"\n",
    "\n",
    "scenario_data += make_stack()\n",
    "scenario_data += driver_data\n",
    "scenario = load_scenario(data = scenario_data)\n",
    "builder = DiagramBuilder()\n",
    "\n",
    "station = builder.AddSystem(MakeHardwareStation(scenario, package_xmls=['./package.xml']))\n",
    "plant = station.GetSubsystemByName(\"plant\")\n",
    "controller_plant = station.GetSubsystemByName(\"iiwa.controller\").get_multibody_plant_for_control()\n",
    "\n",
    "visualizer = MeshcatVisualizer.AddToBuilder(builder, station.GetOutputPort(\"query_object\"), meshcat)\n",
    "\n",
    "diagram = builder.Build()\n",
    "\n",
    "simulator = Simulator(diagram)\n",
    "context = simulator.get_mutable_context()\n",
    "station_context = station.GetMyMutableContextFromRoot(context)\n",
    "plant_context = plant.GetMyMutableContextFromRoot(context)\n",
    "\n",
    "q0 = plant.GetPositions(plant_context, plant.GetModelInstanceByName(\"iiwa\"))\n",
    "station.GetInputPort(\"iiwa.position\").FixValue(station_context, q0)\n",
    "\n",
    "station.GetInputPort(\"wsg.position\").FixValue(station_context, [0])\n",
    "\n",
    "simulator.AdvanceTo(0.1)"
   ]
  },
  {
   "cell_type": "code",
   "execution_count": null,
   "metadata": {
    "colab": {},
    "colab_type": "code",
    "id": "5SjOClhTltPk"
   },
   "outputs": [],
   "source": [
    "# pick central target\n",
    "# push block forward or back\n",
    "# grab firmly and pull out\n",
    "# move without knocking over stack\n",
    "# place on top of stack"
   ]
  },
  {
   "cell_type": "code",
   "execution_count": null,
   "metadata": {},
   "outputs": [],
   "source": [
    "def push_targets(block):\n",
    "    layer, index = block\n",
    "    layer_in_x_direction = layer % 2 == 0\n",
    "    if layer_in_x_direction:\n",
    "        target_x = \n",
    "        target_y = block_length\n",
    "    else:\n",
    "        target_x = block_width * (j - 1)\n",
    "        target_y = block_width * (j - 1)\n",
    "    target_z = block_height * (i + 0.5) + table_height\n",
    "    return np.array([target_x, target_y, target_z])"
   ]
  }
 ],
 "metadata": {
  "colab": {
   "collapsed_sections": [],
   "name": "Robotic Manipulation - Let's get you a robot.ipynb",
   "provenance": [],
   "toc_visible": true
  },
  "kernelspec": {
   "display_name": "Python 3.11.0 64-bit",
   "language": "python",
   "name": "python3"
  },
  "language_info": {
   "codemirror_mode": {
    "name": "ipython",
    "version": 3
   },
   "file_extension": ".py",
   "mimetype": "text/x-python",
   "name": "python",
   "nbconvert_exporter": "python",
   "pygments_lexer": "ipython3",
   "version": "3.11.4"
  },
  "vscode": {
   "interpreter": {
    "hash": "5c7b89af1651d0b8571dde13640ecdccf7d5a6204171d6ab33e7c296e100e08a"
   }
  }
 },
 "nbformat": 4,
 "nbformat_minor": 2
}
