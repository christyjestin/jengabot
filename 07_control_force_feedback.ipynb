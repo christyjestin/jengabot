{
 "cells": [
  {
   "cell_type": "markdown",
   "metadata": {},
   "source": [
    "# Control\n",
    "\n",
    "## Force Feedback and Blocks with Friction\n",
    "\n",
    "After solving the control problem for frictionless blocks, we now add friction to the system. The control should should be modified to use fingertip force feedback for gentle pushing and gripping. The basic static equilibrium can be computed analytically."
   ]
  },
  {
   "cell_type": "code",
   "execution_count": null,
   "metadata": {},
   "outputs": [],
   "source": []
  }
 ],
 "metadata": {
  "language_info": {
   "name": "python"
  }
 },
 "nbformat": 4,
 "nbformat_minor": 2
}
