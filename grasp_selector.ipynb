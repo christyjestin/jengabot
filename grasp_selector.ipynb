{
 "cells": [
  {
   "cell_type": "code",
   "execution_count": 1,
   "metadata": {},
   "outputs": [],
   "source": [
    "import logging\n",
    "from copy import copy\n",
    "from enum import Enum\n",
    "\n",
    "import numpy as np\n",
    "from pydrake.all import (\n",
    "    AbstractValue,\n",
    "    AddMultibodyPlantSceneGraph,\n",
    "    Concatenate,\n",
    "    DiagramBuilder,\n",
    "    InputPortIndex,\n",
    "    LeafSystem,\n",
    "    MeshcatVisualizer,\n",
    "    Parser,\n",
    "    PiecewisePolynomial,\n",
    "    PiecewisePose,\n",
    "    PointCloud,\n",
    "    PortSwitch,\n",
    "    RandomGenerator,\n",
    "    RigidTransform,\n",
    "    RollPitchYaw,\n",
    "    Simulator,\n",
    "    StartMeshcat,\n",
    "    UniformlyRandomRotationMatrix,\n",
    ")\n",
    "\n",
    "from manipulation import ConfigureParser, FindResource, running_as_notebook\n",
    "from manipulation.clutter import GenerateAntipodalGraspCandidate\n",
    "from manipulation.meshcat_utils import AddMeshcatTriad\n",
    "from manipulation.pick import (\n",
    "    MakeGripperCommandTrajectory,\n",
    "    MakeGripperFrames,\n",
    "    MakeGripperPoseTrajectory,\n",
    ")\n",
    "from manipulation.scenarios import AddIiwaDifferentialIK, ycb\n",
    "from manipulation.station import (\n",
    "    AddPointClouds,\n",
    "    MakeHardwareStation,\n",
    "    add_directives,\n",
    "    load_scenario,\n",
    ")\n",
    "\n",
    "\n",
    "class NoDiffIKWarnings(logging.Filter):\n",
    "    def filter(self, record):\n",
    "        return not record.getMessage().startswith(\"Differential IK\")\n",
    "\n",
    "\n",
    "logging.getLogger(\"drake\").addFilter(NoDiffIKWarnings())\n",
    "from setup import *\n",
    "from planner import *"
   ]
  },
  {
   "cell_type": "code",
   "execution_count": null,
   "metadata": {},
   "outputs": [],
   "source": [
    "# Start the visualizer.\n",
    "meshcat = StartMeshcat()"
   ]
  },
  {
   "cell_type": "code",
   "execution_count": null,
   "metadata": {},
   "outputs": [],
   "source": [
    "rng = np.random.default_rng(135)  # this is for python\n",
    "generator = RandomGenerator(rng.integers(0, 1000))  # this is for c++"
   ]
  },
  {
   "cell_type": "code",
   "execution_count": null,
   "metadata": {},
   "outputs": [],
   "source": [
    "# Another diagram for the objects the robot \"knows about\": gripper, cameras, bins.  Think of this as the model in the robot's head.\n",
    "def make_internal_model():\n",
    "  return None"
   ]
  },
  {
   "cell_type": "code",
   "execution_count": null,
   "metadata": {},
   "outputs": [],
   "source": [
    "class GraspSelector(LeafSystem):\n",
    "  def __init__(self, plant):\n",
    "    return None\n",
    "  # sets an output value\n",
    "  def SelectGrasp(self, context, output):\n",
    "    return None\n",
    "\n",
    "\n",
    " \n",
    "def jenga_demo():\n",
    "    # Load scenario\n",
    "  station, plant, builder = make_station(meshcat)\n",
    "  planner, robot = setup_planner(builder, station, plant)\n",
    "  builder = setup_controller(builder, robot, planner, station)\n",
    "  visualizer, diagram, simulator = setup_simulation(meshcat, builder, station)\n",
    "  return None\n",
    "\n",
    "\n",
    "  \n",
    "  "
   ]
  }
 ],
 "metadata": {
  "kernelspec": {
   "display_name": "env",
   "language": "python",
   "name": "python3"
  },
  "language_info": {
   "codemirror_mode": {
    "name": "ipython",
    "version": 3
   },
   "file_extension": ".py",
   "mimetype": "text/x-python",
   "name": "python",
   "nbconvert_exporter": "python",
   "pygments_lexer": "ipython3",
   "version": "3.11.3"
  }
 },
 "nbformat": 4,
 "nbformat_minor": 2
}
