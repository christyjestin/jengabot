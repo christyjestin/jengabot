{
  "cells": [
    {
      "cell_type": "markdown",
      "metadata": {
        "id": "KasEzNEr4R-W"
      },
      "source": [
        "Emma Finn\n",
        "\n",
        "12/12/2023\n",
        "\n",
        "Dr. Iams\n",
        "\n",
        "Applied Math 111\n",
        "\n",
        "# **Rader's Algorithim for the Discrete Fourier Transform**"
      ]
    },
    {
      "cell_type": "markdown",
      "metadata": {
        "id": "Hcw_mU8NHzRp"
      },
      "source": [
        "# **ABSTRACT**\n",
        "The purpose of this project was to understand Rader's Fast Fourier Transformation algorithim from two angles. The first approach was to explore the number theory behind the technique and understand how exactly a DFT can be expressed as a convolution and how the relatiosnhip to the group $\\mathbb{Z}_{p}^{x}$ helps us to decompose the computation. The second approach was to implement Rader's Algorithim in Python, so that we could compute some examples and show that Rader's Algorithim is orders of magnitude better than a naive implementation. I developed a deeper understanding of groups, Fourier transformations, and the order of algorithims.\n"
      ]
    },
    {
      "cell_type": "markdown",
      "metadata": {
        "id": "PiP6fWY3H8Ob"
      },
      "source": [
        "# **INTRODUCTION**\n",
        "The Institute of Electrical and Electronics Engineers lists the FFT as one of the ten most important algorithims of the 20th century. [1] The FFT is uqbiquitous across disciplines from straigtforward applications to signal processing to use in convolutional neural networks. Rader's algorithim was the first of a class of FFT methods that allowed the decomposition of prime length sequences [3].\n",
        "\n",
        "\n",
        "\n",
        "Broadly, the goal of Fourier Transform is to decompose a signal into a sum of periodic functions (here sines and cosines with different frequencies). Often mathemticians think of Fourier transformations as mappings of a continuous function from a  time domain to a frequency domain. Here, since computers work best with discrete data, we'll consider a fourier transformation as mapping a set of N sampled points from a time domain to a set of N points in a frequency domain.\n",
        "\n",
        "\n",
        "This process of decomposition turns out to be extremly computationally intensive. A naive implementation requries on the order of $N^2$ multiplications alone [2]. For a tool used everywhere (radios, televisions, etc.), this level of inefficiency is impractical.\n",
        "\n",
        "\n",
        "The simplest algorithims (e.g., Cooley-Tukey) are \"divide and conquer\" algorithims [2]. They work when N is a composite number. In particular, Cooley-Tukey subidvides N into its prime factors and cleverly sums their DFTs resulting in an algorithim on the order of $Nlog(N)$. However, when N is prime, no such divide and conquor method is possible. [2]\n",
        "\n",
        "\n",
        "This is precisely the problem that Rader's algorithim solves. Instead of decomposing N into a product, it treats a fourier transformation as a (discrete) convolution, instead. The sequences convolved are carefully chosen and indexed to maximize computational efficiency. The indexing of these two sequences (which will be explored in much greater depth later) is chosen according to the group generator of the cyclic group $\\mathbb{Z}_{p}^{x}$.\n",
        "\n",
        "\n",
        "In this project, I detail the number theory that makes this possible and offer a few proofs for the key points that allow this. I also work through one small example by hand, illustrating for a small p that Rader's method results in the same output as the naive impelmetation.\n",
        "\n",
        "\n",
        "I then move to the implementation of the algorithim, offering first a *very* naive fourier transformation. I compare that to built in methods. I then implement Rader's algorithim and its accompnaying helper functions. I show for a series of examples that it's both much faster than the naive implementation.\n"
      ]
    },
    {
      "cell_type": "markdown",
      "metadata": {
        "id": "3m6ega7qH79e"
      },
      "source": [
        "# **BACKGROUND**\n",
        "The origin of my interest in this problem was in the number theory that makes this method possible. I had never studied number theory or group theory formally, so what follows is everything relevant that I learned for this project.\n",
        "\n",
        "Let's start with a few definitons, whose usefulness I'll motivate after introducing them.\n",
        "# Fourier Definitions\n",
        "\n",
        "\n",
        "1.   Roots of Unity [4]: $$ \\omega_N = e^{\\frac{-2 \\pi i}{N}} $$\n",
        "2.   Fourier Transform [2]: $$ H_n = \\sum_{k=0}^{N-1} h_k e^{\\frac{2\\pi ikn}{N}}$$ for $n \\in \\{ 0,1,2,...N\\}$\n",
        "  Is the general equation for a DFT, where N is the number of points sampled k is our indexing variable within the sum that produces each term and n is our indexing variable for the N different sums we compute, and i is the imaginary number.\n",
        "\n",
        "# Convolution Definitions\n",
        "\n",
        "\n",
        "1.   Discrete Convolution: $$\\mathcal{F}\\{g * h\\}(n) = \\sum_{k=-∞}^{∞} g[k]*h[n-k] $$ for $n \\in \\{ 0,1,2,...N\\}$\n",
        "\n",
        "2.   Convolution Theorem [5]: $$\\mathcal{F}\\{f * g\\}(x) = \\mathcal{F}(f(x))\\bullet \\mathcal{F}(g(x))$$ Where $\\mathcal{F}$ denotes the discrete fourier transform, * denotes a convolution, $\\bullet$ denotes pointwise multiplication, and f(x), g(x) represent sequences to be convolved rather than functions. The key idea here is that **\"Convolution in the time domain is multiplication in the frequency domain.\"**\n",
        "\n",
        "\n",
        "# Group Definitions\n",
        "1.   **Group** a set G containing n elements and some arithmetic operation that is either one-to-one or many-to-one (we'll call this operation *) that satisfies the following properites:\n",
        "      *   Closure: for any a,b ∈ G, then if c = a*b, c ∈ G\n",
        "      *   Associativity: (a * b) * c = a * (b * c) $ for a,b,c ∈ G\n",
        "      *   Identity: ∃e ∈G such that a * e = a ∀a∈G\n",
        "      *   Inverse: for every a ∈ G  ∃b such that a * b = e\n",
        "\n",
        "2.   **Abelian Group** a communative group -- ie it satisfies all of the above and ∀ a,b ∈ G,  a * b = b * a\n",
        "\n",
        "3.   **Order** (for a finite group) *the number of elements in that group* or (for an elment of a group) *the smallest m such that $a^m = e$ where e is the identity element of the group* (this is connected to the first definition because this is another way of writing the number of elements of the subgroup generated by that element)\n",
        "4.   **Period** Least common multiple of the orders of the lements of the group\n",
        "\n",
        "\n",
        "(Definitions from Garg, pg 11, SIAM paper, Shlomo pg 672)\n",
        "\n",
        "It's by no means obvious why any of these definitions are relevant to a question about Fourier transformations. In order to motivate our choice of technique, I'm going to show the example p = 7, then break down the steps and include any relevant theorems to show that this is true in the general case.\n",
        "\n",
        "\n",
        "# Motivating Example\n",
        "\n",
        "Let **h** = [ $h_1, h_2, h_3, h_4, h_5, h_6, h_7$ ] be 7 points sampled from some function on which we want to perform a fourier transformation.\n",
        "\n",
        "\n",
        "\n",
        "\n",
        "To recap, the tools needed to solve this problem were:\n",
        "\n",
        "\n",
        "1.   Definition and Properties of Group and Multiplicative Inverses\n",
        "1.   $\\mathbb{Z}_{p}^{x}$ is Cyclic with Generator g\n",
        "2.   Definition and Properties of Roots of Unity\n",
        "1.   Definition of a Fourier Transformation\n",
        "2.   Definition of a Convolution\n",
        "2.   Convolution Theorem\n",
        "\n",
        "Describe the necessary mathematics, or other information, that you needed to know or learn to make progress on this project.\n",
        "\n",
        "Include citations, as appropriate."
      ]
    },
    {
      "cell_type": "markdown",
      "metadata": {
        "id": "c0N07tvEIQqG"
      },
      "source": [
        "**METHODS**\n"
      ]
    },
    {
      "cell_type": "markdown",
      "metadata": {
        "id": "nEBm6Jg_yyC1"
      },
      "source": [
        "# **METHODS**\n",
        "Describe numerical methods being used in your project.  Share what you learned about the method and summarize any work you did to implement it, and include implementation code."
      ]
    },
    {
      "cell_type": "code",
      "execution_count": 1,
      "metadata": {
        "id": "CysWJaBc5IJI"
      },
      "outputs": [],
      "source": [
        "import numpy as np\n",
        "import sympy as sy\n",
        "import math\n",
        "from scipy import linalg, fft"
      ]
    },
    {
      "cell_type": "markdown",
      "metadata": {
        "id": "nTheqk-zVnmM"
      },
      "source": [
        "**Import Example Signal**"
      ]
    },
    {
      "cell_type": "code",
      "execution_count": 2,
      "metadata": {
        "id": "TVYr_8aKVqJ8"
      },
      "outputs": [],
      "source": [
        "#Import Example Signal to Decompose"
      ]
    },
    {
      "cell_type": "markdown",
      "metadata": {
        "id": "IMutGHSqhNO_"
      },
      "source": [
        "**BUILT-IN FFT**"
      ]
    },
    {
      "cell_type": "code",
      "execution_count": 3,
      "metadata": {
        "id": "GlmkJRqg6a_j"
      },
      "outputs": [],
      "source": [
        "#Built In Method\n",
        "def builtDFT(x):\n",
        "  return np.fft.fft(x)"
      ]
    },
    {
      "cell_type": "markdown",
      "metadata": {
        "id": "EWWCS-GQ6SXG"
      },
      "source": [
        "**NAIVE FFT**"
      ]
    },
    {
      "cell_type": "code",
      "execution_count": 4,
      "metadata": {
        "colab": {
          "base_uri": "https://localhost:8080/"
        },
        "id": "-3TqoM7o6SDx",
        "outputId": "7ca8f5a3-e94f-420d-a2c9-a6a9620d6403"
      },
      "outputs": [
        {
          "data": {
            "text/plain": [
              "True"
            ]
          },
          "execution_count": 4,
          "metadata": {},
          "output_type": "execute_result"
        }
      ],
      "source": [
        "#Intuitive Implementation\n",
        "#X_m = sum from k = 0 to N-1 of e^(-2pi*jkm/N)x_k for m {0,1,2,.. N-1} where j is i for some reason\n",
        "def DFT0(x):\n",
        "  N = len(x)\n",
        "  x = np.asarray(x, dtype=float)\n",
        "  Y = np.zeros((N,1), dtype=complex)\n",
        "  for m in range(N):\n",
        "    Y[m] = np.sum([x[k]*np.exp(-2j*np.pi*k*m/N) for k in range(N)])\n",
        "  return Y\n",
        "\n",
        "t = np.linspace(0,50,1000)\n",
        "y = np.sin(t)\n",
        "#x = np.random.random(100)\n",
        "\n",
        "# transpose is to make the shapes match\n",
        "DFT_built_in = np.asarray([np.fft.fft(y)]).T\n",
        "DFT_naive = DFT0(y)\n",
        "\n",
        "#Hey look it works!!\n",
        "np.allclose(DFT_naive,DFT_built_in)"
      ]
    },
    {
      "cell_type": "markdown",
      "metadata": {
        "id": "7MsNd6dj6Ohx"
      },
      "source": [
        "**RADER'S FFT**"
      ]
    },
    {
      "cell_type": "code",
      "execution_count": 5,
      "metadata": {
        "id": "rMzZeOXckvAy"
      },
      "outputs": [],
      "source": [
        "#Helper Function 1 --> Finding the Group Generator\n",
        "def findGenerator(n):\n",
        "    phi = n - 1\n",
        "    prime_factors = sy.primefactors(phi)\n",
        "\n",
        "    for i in range(2, n):\n",
        "        is_generator = True\n",
        "        for j in prime_factors:\n",
        "            if pow(i, phi // j, n) == 1:\n",
        "                is_generator = False\n",
        "                break\n",
        "        if is_generator:\n",
        "            return i\n",
        "    return -1"
      ]
    },
    {
      "cell_type": "code",
      "execution_count": 6,
      "metadata": {
        "id": "cJgP4VRrQCjx"
      },
      "outputs": [],
      "source": [
        "# Helper Function 2 --> Reordering  input data AND reordering output of the DFT when g = g_inv\n",
        "def rearrange(input, g, p):\n",
        "  # a_q = h_(g^q), g is group generator, p is prime length\n",
        "  n = len(input)\n",
        "  index = [0] * n\n",
        "  for q in range(n):\n",
        "    index[q] = pow(g, q, p) - 1\n",
        "  re = [0] * n\n",
        "  for q in range(n):\n",
        "    re[int(index[q])] = input[q]\n",
        "  # rearrange values in input array\n",
        "  for q in range(n):\n",
        "    input[q] = re[q]\n",
        "  return input"
      ]
    },
    {
      "cell_type": "code",
      "execution_count": 7,
      "metadata": {
        "id": "UNjnNCXLQ8eo"
      },
      "outputs": [],
      "source": [
        "# Helper Function 3 --> Arranging powers of omega\n",
        "def omega_sequence(g_inv, p):\n",
        "  # g_inv is inverse of group generator, p is prime length\n",
        "  n = p - 1\n",
        "  exponent = [0] * n\n",
        "  w = np.exp(-2j*np.pi/p)\n",
        "  for q in range(n):\n",
        "    exponent[q] = pow(g_inv, q, p)\n",
        "  omega = w**exponent\n",
        "  return omega"
      ]
    },
    {
      "cell_type": "code",
      "execution_count": 8,
      "metadata": {
        "id": "41W61SSf4OIE"
      },
      "outputs": [],
      "source": [
        "# Check that input length is prime, if not, return error\n",
        "def raders_fft(input):\n",
        "  N = len(input)\n",
        "  if not sy.isprime(N):\n",
        "    print(\"error\")\n",
        "\n",
        "  # Seperate the zero-indexed part of the calculation\n",
        "  y0 = input[0]\n",
        "  input_1 = np.delete(input, 0)\n",
        "\n",
        "  # Find the group generator --> write helper function that uses euler totient to find primitive roots\n",
        "  g = findGenerator(N)\n",
        "\n",
        "  # Find the inverse group generator\n",
        "  g_inv = sy.mod_inverse(g,N)\n",
        "\n",
        "  # Rewrite the sum of the non-zero indexed terms, reordering and reindexing according to the cyclic properties of the group\n",
        "  a_q = rearrange(input_1, g, N)\n",
        "  b_q = omega_sequence(g_inv, N)\n",
        "\n",
        "  # Compute the pointwise multiplication of the dtf of both sequences above F(a*b) = AB --> (a*b) = F_inv(AB) (convolution theorem)\n",
        "  A_q = np.fft.fft(a_q)\n",
        "  B_q = np.fft.fft(b_q)\n",
        "  prod = A_q * B_q\n",
        "\n",
        "  # Take the inverse DFT of their product\n",
        "  inverse_DFT = fft.ifft(prod)\n",
        "\n",
        "  # Reorder using SAME rearrange function but with g_inv instead of g as inverse\n",
        "  output_less_y0 = rearrange(inverse_DFT, g_inv, p)\n",
        "\n",
        "  # Add back the zero term\n",
        "  output = output_less_y0 + y0\n",
        "\n",
        "  # Generate initial term by summing input terms\n",
        "  Y_0 = np.sum(input)\n",
        "\n",
        "  # Prepend first term to sequence\n",
        "  output = np.insert(output, 0, Y_0)\n",
        "\n",
        "  return output"
      ]
    },
    {
      "cell_type": "markdown",
      "metadata": {
        "id": "0enQKiFrIQUC"
      },
      "source": [
        "# **RESULTS**\n",
        "Describe the results or accomplishments of your project.  Include figures (tables, plots, etc, with their generating code), written captions describing the information in the figure, and text explaining the results of your project work."
      ]
    },
    {
      "cell_type": "code",
      "execution_count": 9,
      "metadata": {
        "colab": {
          "base_uri": "https://localhost:8080/"
        },
        "id": "qMaqyW7nHXsR",
        "outputId": "6d77674f-76ea-428e-8b25-9d488818578e"
      },
      "outputs": [
        {
          "ename": "NameError",
          "evalue": "name 'p' is not defined",
          "output_type": "error",
          "traceback": [
            "\u001b[0;31m---------------------------------------------------------------------------\u001b[0m",
            "\u001b[0;31mNameError\u001b[0m                                 Traceback (most recent call last)",
            "\u001b[1;32m/home/christy/Downloads/JengaBot/FFT.ipynb Cell 20\u001b[0m line \u001b[0;36m4\n\u001b[1;32m      <a href='vscode-notebook-cell:/home/christy/Downloads/JengaBot/FFT.ipynb#X25sZmlsZQ%3D%3D?line=1'>2</a>\u001b[0m x \u001b[39m=\u001b[39m np\u001b[39m.\u001b[39mrandom\u001b[39m.\u001b[39mrandom(\u001b[39m1171\u001b[39m)\n\u001b[1;32m      <a href='vscode-notebook-cell:/home/christy/Downloads/JengaBot/FFT.ipynb#X25sZmlsZQ%3D%3D?line=2'>3</a>\u001b[0m real \u001b[39m=\u001b[39m np\u001b[39m.\u001b[39mfft\u001b[39m.\u001b[39mfft(x)\n\u001b[0;32m----> <a href='vscode-notebook-cell:/home/christy/Downloads/JengaBot/FFT.ipynb#X25sZmlsZQ%3D%3D?line=3'>4</a>\u001b[0m raders \u001b[39m=\u001b[39m raders_fft(x)\n\u001b[1;32m      <a href='vscode-notebook-cell:/home/christy/Downloads/JengaBot/FFT.ipynb#X25sZmlsZQ%3D%3D?line=4'>5</a>\u001b[0m np\u001b[39m.\u001b[39mallclose(DFT_naive,DFT_built_in)\n",
            "\u001b[1;32m/home/christy/Downloads/JengaBot/FFT.ipynb Cell 20\u001b[0m line \u001b[0;36m3\n\u001b[1;32m     <a href='vscode-notebook-cell:/home/christy/Downloads/JengaBot/FFT.ipynb#X25sZmlsZQ%3D%3D?line=26'>27</a>\u001b[0m inverse_DFT \u001b[39m=\u001b[39m fft\u001b[39m.\u001b[39mifft(prod)\n\u001b[1;32m     <a href='vscode-notebook-cell:/home/christy/Downloads/JengaBot/FFT.ipynb#X25sZmlsZQ%3D%3D?line=28'>29</a>\u001b[0m \u001b[39m# Reorder using SAME rearrange function but with g_inv instead of g as inverse\u001b[39;00m\n\u001b[0;32m---> <a href='vscode-notebook-cell:/home/christy/Downloads/JengaBot/FFT.ipynb#X25sZmlsZQ%3D%3D?line=29'>30</a>\u001b[0m output_less_y0 \u001b[39m=\u001b[39m rearrange(inverse_DFT, g_inv, p)\n\u001b[1;32m     <a href='vscode-notebook-cell:/home/christy/Downloads/JengaBot/FFT.ipynb#X25sZmlsZQ%3D%3D?line=31'>32</a>\u001b[0m \u001b[39m# Add back the zero term\u001b[39;00m\n\u001b[1;32m     <a href='vscode-notebook-cell:/home/christy/Downloads/JengaBot/FFT.ipynb#X25sZmlsZQ%3D%3D?line=32'>33</a>\u001b[0m output \u001b[39m=\u001b[39m output_less_y0 \u001b[39m+\u001b[39m y0\n",
            "\u001b[0;31mNameError\u001b[0m: name 'p' is not defined"
          ]
        }
      ],
      "source": [
        "# Does Rader's Algorithim Work?\n",
        "x = np.random.random(1171)\n",
        "real = np.fft.fft(x)\n",
        "raders = raders_fft(x)\n",
        "np.allclose(DFT_naive,DFT_built_in)"
      ]
    },
    {
      "cell_type": "code",
      "execution_count": null,
      "metadata": {
        "colab": {
          "base_uri": "https://localhost:8080/"
        },
        "id": "wpSZPqsPATQR",
        "outputId": "fd2c6f75-0c74-446b-a4ca-2a498b6a6c31"
      },
      "outputs": [
        {
          "name": "stdout",
          "output_type": "stream",
          "text": [
            "2.67 s ± 656 ms per loop (mean ± std. dev. of 7 runs, 1 loop each)\n",
            "6.65 ms ± 1.43 ms per loop (mean ± std. dev. of 7 runs, 100 loops each)\n",
            "120 µs ± 29 µs per loop (mean ± std. dev. of 7 runs, 10000 loops each)\n"
          ]
        }
      ],
      "source": [
        "# NAIVE FFT VS RADER'S VS BUILT IN\n",
        "# Let's see how long it takes\n",
        "%timeit DFT0(x)\n",
        "%timeit raders_fft(x)\n",
        "%timeit np.fft.fft(x)"
      ]
    },
    {
      "cell_type": "markdown",
      "metadata": {
        "id": "Dolsc6B_IQDX"
      },
      "source": [
        "#**DISCUSSIONS/CONCLUSIONS**\n",
        "# Discussion of Results\n",
        "Discuss any results, and what you learned from the project work.\n",
        "\n",
        "# Revisions and Extensions\n",
        "If I had the chance to do this project over again, I'd change the language I programmed in. While Python is the language I'm most comfortable with, I now  understand why I didn't find anyone else implementing Rader's method (or any DFT designed for efficiency) using it. While the code is readable and very closely related to the computations I performed, it's not the most efficient. While I'm very glad I was able to get within two orders of magnitude of the built-in method, I think I would have been able to do much better using a language designed for efficiency where more vectorization is possible. I'd also spend more time optimizing my helper functions, which I think are slowing down the process quite a bit. I wish I had a chance to implement zero-padding to the nearest power of two and compare that directly to the pure Rader FFT. In that scenario, I'd also have ideally liked to write my own Cooley-Tukey method, so that I could avoid using any built ins, and compute Rader's Method with Zero Padding using only my own code. It would have been really interesting to compare that to the built in method to see how much my helper functions are slowing me down.\n",
        "\n",
        "# Lingering Questions\n",
        "Since this took almost exactly as much time as I expected, there's nothing that I intended to do that hasn't worked yet. However, the two things that I mentioned in my proposal that I didn't think I'd have time to implement (and didn't) but still want to explore more are Bluestein's method and proving analytically that when zero-padded optimally, Rader's Algorithim is $O(NlogN)$.I'd also work a little more on more modern implementations of FFTs, especially the Chirp-Z transform and learn more about non-fourier time frequency transformations, like the Laplace transform. In some of the litterature I've read, they mentioned a hardware implementation of the FFT, which I'd love to learn more about [6]. I still don't think I really understand in general how we go from a physical signal to something a computer takes in to a data set Rader's algorithim acts upon.\n",
        "\n",
        "  "
      ]
    },
    {
      "cell_type": "markdown",
      "metadata": {
        "id": "og5rCwfRIdUe"
      },
      "source": [
        "**BIBLIOGRAPHY**\n",
        "\n",
        "[1] https://www.computer.org/csdl/magazine/cs/2000/01/c1022/13rRUxBJhBm\n",
        "\n",
        "[2] Elementary Number Theory and Rader’s FFT: 10.1137/15M1044990\n",
        "\n",
        "[3] https://ietresearch.onlinelibrary.wiley.com/doi/full/10.1049/iet-cds.2018.5200#:~:text=Rader%20algorithm%20was%20introduced%20as,the%20periodicity%20of%20the%20DFT\n",
        "\n",
        "[4]https://cs.stanford.edu/~rayyli/static/contest/lectures/Ray%20Li%20rootsofunity.pdf\n",
        "\n",
        "[5] https://betterexplained.com/articles/intuitive-convolution/\n",
        "\n",
        "[6] https://web.mit.edu/6.111/www/f2017/handouts/FFTtutorial121102.pdf\n",
        "\n"
      ]
    }
  ],
  "metadata": {
    "colab": {
      "provenance": []
    },
    "kernelspec": {
      "display_name": "Python 3",
      "name": "python3"
    },
    "language_info": {
      "codemirror_mode": {
        "name": "ipython",
        "version": 3
      },
      "file_extension": ".py",
      "mimetype": "text/x-python",
      "name": "python",
      "nbconvert_exporter": "python",
      "pygments_lexer": "ipython3",
      "version": "3.11.4"
    }
  },
  "nbformat": 4,
  "nbformat_minor": 0
}
