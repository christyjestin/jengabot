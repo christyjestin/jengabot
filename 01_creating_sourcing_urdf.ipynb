{
 "cells": [
  {
   "cell_type": "markdown",
   "metadata": {},
   "source": [
    "# Environment and Simulation Setup\n",
    "## Creating and Sourcing URDF Files\n",
    "\n",
    "This tasks includes the meshes (`.stl` files), collision geometry, and `.urdf` files for each object. We plan to use the Franka panda robotic arm, which is the same arm purchased in our research group (the Computational Robotics Lab at Harvard)."
   ]
  },
  {
   "cell_type": "markdown",
   "metadata": {},
   "source": [
    "### Load Robot Model"
   ]
  },
  {
   "cell_type": "markdown",
   "metadata": {},
   "source": [
    "### Load Jenga Blocks Model (and Container)"
   ]
  },
  {
   "cell_type": "markdown",
   "metadata": {},
   "source": [
    "### Load table model"
   ]
  },
  {
   "cell_type": "code",
   "execution_count": 1,
   "metadata": {},
   "outputs": [
    {
     "ename": "ImportError",
     "evalue": "cannot import name 'ConnectMeshcatVisualizer' from 'pydrake.all' (/Users/davidbombara/Documents/ComputationalRoboticsCode/jengabot/env/lib/python3.11/site-packages/pydrake/all.py)",
     "output_type": "error",
     "traceback": [
      "\u001b[0;31m---------------------------------------------------------------------------\u001b[0m",
      "\u001b[0;31mImportError\u001b[0m                               Traceback (most recent call last)",
      "\u001b[1;32m/Users/davidbombara/Documents/ComputationalRoboticsCode/jengabot/01_creating_sourcing_urdf.ipynb Cell 5\u001b[0m line \u001b[0;36m3\n\u001b[1;32m      <a href='vscode-notebook-cell:/Users/davidbombara/Documents/ComputationalRoboticsCode/jengabot/01_creating_sourcing_urdf.ipynb#X10sZmlsZQ%3D%3D?line=0'>1</a>\u001b[0m \u001b[39mimport\u001b[39;00m \u001b[39mos\u001b[39;00m\n\u001b[1;32m      <a href='vscode-notebook-cell:/Users/davidbombara/Documents/ComputationalRoboticsCode/jengabot/01_creating_sourcing_urdf.ipynb#X10sZmlsZQ%3D%3D?line=1'>2</a>\u001b[0m \u001b[39mimport\u001b[39;00m \u001b[39mdrake\u001b[39;00m\n\u001b[0;32m----> <a href='vscode-notebook-cell:/Users/davidbombara/Documents/ComputationalRoboticsCode/jengabot/01_creating_sourcing_urdf.ipynb#X10sZmlsZQ%3D%3D?line=2'>3</a>\u001b[0m \u001b[39mfrom\u001b[39;00m \u001b[39mpydrake\u001b[39;00m\u001b[39m.\u001b[39;00m\u001b[39mall\u001b[39;00m \u001b[39mimport\u001b[39;00m (\n\u001b[1;32m      <a href='vscode-notebook-cell:/Users/davidbombara/Documents/ComputationalRoboticsCode/jengabot/01_creating_sourcing_urdf.ipynb#X10sZmlsZQ%3D%3D?line=3'>4</a>\u001b[0m     DiagramBuilder,\n\u001b[1;32m      <a href='vscode-notebook-cell:/Users/davidbombara/Documents/ComputationalRoboticsCode/jengabot/01_creating_sourcing_urdf.ipynb#X10sZmlsZQ%3D%3D?line=4'>5</a>\u001b[0m     MultibodyPlant,\n\u001b[1;32m      <a href='vscode-notebook-cell:/Users/davidbombara/Documents/ComputationalRoboticsCode/jengabot/01_creating_sourcing_urdf.ipynb#X10sZmlsZQ%3D%3D?line=5'>6</a>\u001b[0m     SceneGraph,\n\u001b[1;32m      <a href='vscode-notebook-cell:/Users/davidbombara/Documents/ComputationalRoboticsCode/jengabot/01_creating_sourcing_urdf.ipynb#X10sZmlsZQ%3D%3D?line=6'>7</a>\u001b[0m     Parser,\n\u001b[1;32m      <a href='vscode-notebook-cell:/Users/davidbombara/Documents/ComputationalRoboticsCode/jengabot/01_creating_sourcing_urdf.ipynb#X10sZmlsZQ%3D%3D?line=7'>8</a>\u001b[0m     Simulator,\n\u001b[1;32m      <a href='vscode-notebook-cell:/Users/davidbombara/Documents/ComputationalRoboticsCode/jengabot/01_creating_sourcing_urdf.ipynb#X10sZmlsZQ%3D%3D?line=8'>9</a>\u001b[0m     FindResourceOrThrow,\n\u001b[1;32m     <a href='vscode-notebook-cell:/Users/davidbombara/Documents/ComputationalRoboticsCode/jengabot/01_creating_sourcing_urdf.ipynb#X10sZmlsZQ%3D%3D?line=9'>10</a>\u001b[0m     ConnectMeshcatVisualizer\n\u001b[1;32m     <a href='vscode-notebook-cell:/Users/davidbombara/Documents/ComputationalRoboticsCode/jengabot/01_creating_sourcing_urdf.ipynb#X10sZmlsZQ%3D%3D?line=10'>11</a>\u001b[0m )\n\u001b[1;32m     <a href='vscode-notebook-cell:/Users/davidbombara/Documents/ComputationalRoboticsCode/jengabot/01_creating_sourcing_urdf.ipynb#X10sZmlsZQ%3D%3D?line=12'>13</a>\u001b[0m \u001b[39mdef\u001b[39;00m \u001b[39mmain\u001b[39m():\n\u001b[1;32m     <a href='vscode-notebook-cell:/Users/davidbombara/Documents/ComputationalRoboticsCode/jengabot/01_creating_sourcing_urdf.ipynb#X10sZmlsZQ%3D%3D?line=13'>14</a>\u001b[0m     \u001b[39m# Initialize the diagram builder\u001b[39;00m\n\u001b[1;32m     <a href='vscode-notebook-cell:/Users/davidbombara/Documents/ComputationalRoboticsCode/jengabot/01_creating_sourcing_urdf.ipynb#X10sZmlsZQ%3D%3D?line=14'>15</a>\u001b[0m     builder \u001b[39m=\u001b[39m DiagramBuilder()\n",
      "\u001b[0;31mImportError\u001b[0m: cannot import name 'ConnectMeshcatVisualizer' from 'pydrake.all' (/Users/davidbombara/Documents/ComputationalRoboticsCode/jengabot/env/lib/python3.11/site-packages/pydrake/all.py)"
     ]
    }
   ],
   "source": [
    "import os\n",
    "import drake\n",
    "from pydrake.all import (\n",
    "    DiagramBuilder,\n",
    "    MultibodyPlant,\n",
    "    SceneGraph,\n",
    "    Parser,\n",
    "    Simulator,\n",
    "    FindResourceOrThrow,\n",
    "    ConnectMeshcatVisualizer\n",
    ")\n",
    "\n",
    "def main():\n",
    "    # Initialize the diagram builder\n",
    "    builder = DiagramBuilder()\n",
    "\n",
    "    # Create a MultibodyPlant and a SceneGraph\n",
    "    plant = MultibodyPlant(time_step=0.001)\n",
    "    scene_graph = builder.AddSystem(SceneGraph())\n",
    "    plant.RegisterAsSourceForSceneGraph(scene_graph)\n",
    "\n",
    "    # Parse the URDF file\n",
    "    jenga_block_file = \"path/to/jenga_block.urdf\"  # Replace with the correct path\n",
    "    Parser(plant).AddModelFromFile(jenga_block_file)\n",
    "\n",
    "    # Finalize the plant\n",
    "    plant.Finalize()\n",
    "\n",
    "    # Add visualization\n",
    "    visualizer = ConnectMeshcatVisualizer(builder, scene_graph, zmq_url=\"tcp://127.0.0.1:6000\")\n",
    "\n",
    "    # Build the diagram\n",
    "    diagram = builder.Build()\n",
    "\n",
    "    # Create a simulator\n",
    "    simulator = Simulator(diagram)\n",
    "\n",
    "    # Set the initial conditions\n",
    "    context = simulator.get_mutable_context()\n",
    "    plant_context = plant.GetMyMutableContextFromRoot(context)\n",
    "\n",
    "    # Run the simulation\n",
    "    simulator.AdvanceTo(5.0)  # Simulate for 5 seconds\n",
    "\n",
    "if __name__ == \"__main__\":\n",
    "    main()"
   ]
  }
 ],
 "metadata": {
  "kernelspec": {
   "display_name": "env",
   "language": "python",
   "name": "python3"
  },
  "language_info": {
   "codemirror_mode": {
    "name": "ipython",
    "version": 3
   },
   "file_extension": ".py",
   "mimetype": "text/x-python",
   "name": "python",
   "nbconvert_exporter": "python",
   "pygments_lexer": "ipython3",
   "version": "3.11.3"
  }
 },
 "nbformat": 4,
 "nbformat_minor": 2
}
