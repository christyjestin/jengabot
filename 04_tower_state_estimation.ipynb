{
 "cells": [
  {
   "cell_type": "markdown",
   "metadata": {},
   "source": [
    "# Perception\n",
    "\n",
    "## Tower State Estimation\n",
    "\n",
    "The state of the overall tower can be discretized along the continuum from unassembled, partially-assembled, and full-assembled. This knowledge will be useful for the robots to detect when the tower falls, thus ending the game."
   ]
  },
  {
   "cell_type": "code",
   "execution_count": null,
   "metadata": {},
   "outputs": [],
   "source": []
  }
 ],
 "metadata": {
  "language_info": {
   "name": "python"
  }
 },
 "nbformat": 4,
 "nbformat_minor": 2
}
