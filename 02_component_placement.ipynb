{
 "cells": [
  {
   "cell_type": "markdown",
   "metadata": {},
   "source": [
    "# Environment and Simulation Setup\n",
    "## Initial Component Placement for the Simulation\n",
    "This task may be trivial, but nonetheless necessary for the execution of the project’s other tasks. If the Jenga tower is initially unassembled, this task can also include the assembly process."
   ]
  },
  {
   "cell_type": "code",
   "execution_count": null,
   "metadata": {},
   "outputs": [],
   "source": [
    "import os\n",
    "\n",
    "from pydrake.geometry import StartMeshcat\n",
    "from pydrake.systems.analysis import Simulator\n",
    "from pydrake.visualization import ModelVisualizer\n",
    "from pydrake.all import Simulator, StartMeshcat\n",
    "\n",
    "from manipulation import running_as_notebook\n",
    "from manipulation.station import MakeHardwareStation, load_scenario"
   ]
  },
  {
   "cell_type": "code",
   "execution_count": null,
   "metadata": {},
   "outputs": [],
   "source": [
    "meshcat = StartMeshcat()"
   ]
  },
  {
   "cell_type": "code",
   "execution_count": null,
   "metadata": {},
   "outputs": [],
   "source": [
    "def make_stack():\n",
    "    output = ''\n",
    "    num_layers = 18\n",
    "    num_blocks_per_layer = 3\n",
    "    block_width = 0.025\n",
    "    block_height = 0.015\n",
    "    for i in range(num_layers):\n",
    "        # alternate block orientations\n",
    "        layer_in_x_direction = i % 2 == 0\n",
    "        for j in range(num_blocks_per_layer):\n",
    "            x = (block_width * (j - 1)) if layer_in_x_direction else 0\n",
    "            y = 0 if layer_in_x_direction else (block_width * (j - 1))\n",
    "            z = block_height * i\n",
    "            orientation = \"{ deg: [0, 0, 0] }\" if layer_in_x_direction else \"{ deg: [0, 0, 90] }\"\n",
    "            output += f\"\"\"\n",
    "            - add_model:\n",
    "                name: block_{i * 3 + j}\n",
    "                file: /models/jenga_block.sdf\n",
    "                default_free_body_pose:\n",
    "                    jenga_block_link:\n",
    "                        translation: [{x}, {y}, {z}]\n",
    "                        rotation: !Rpy {orientation}\n",
    "            \"\"\"\n",
    "    return output\n",
    "\n",
    "make_stack()"
   ]
  },
  {
   "cell_type": "code",
   "execution_count": null,
   "metadata": {},
   "outputs": [],
   "source": [
    "def create_scene():\n",
    "    scenario_data = f\"\"\"\n",
    "    directives:\n",
    "    - add_model:\n",
    "        name: table_top\n",
    "        file: /models/table_top.sdf\n",
    "    - add_weld:\n",
    "        parent: world\n",
    "        child: table_top::table_top_center\n",
    "    \"\"\"\n",
    "\n",
    "    scenario = load_scenario(data=scenario_data)\n",
    "    station = MakeHardwareStation(scenario, meshcat)\n",
    "\n",
    "    simulator = Simulator(station)\n",
    "    meshcat.StartRecording()\n",
    "    simulator.AdvanceTo(2.0 if running_as_notebook else 0.1)\n",
    "    meshcat.PublishRecording()\n",
    "\n",
    "create_scene()"
   ]
  }
 ],
 "metadata": {
  "kernelspec": {
   "display_name": "env",
   "language": "python",
   "name": "python3"
  },
  "language_info": {
   "name": "python",
   "version": "3.11.3"
  }
 },
 "nbformat": 4,
 "nbformat_minor": 2
}
