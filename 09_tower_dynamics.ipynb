{
 "cells": [
  {
   "cell_type": "markdown",
   "metadata": {},
   "source": [
    "# Modeling the Tower Physics\n",
    "\n",
    "## Statics\n",
    "\n",
    "Rigid-body dynamics and statics of the tower block friction and deviations from nominal dimensions\n",
    "\n",
    "Because this modeling framework is more complicated,\n",
    "analytical solutions may either be intractable or suboptimal to numerical techniques. The Drake physics engine\n",
    "will be leveraged for this task and to simulate disturbances to the tower."
   ]
  },
  {
   "cell_type": "markdown",
   "metadata": {},
   "source": [
    "## Tower Parameters"
   ]
  },
  {
   "cell_type": "markdown",
   "metadata": {},
   "source": [
    "## Check whether the tower is in static equilibrium.\n",
    "\n",
    "Firstly, we have a force balance in the vertical direction:\n",
    "\n",
    "$$\n",
    "    {}^{k}F_{1}^{i} + {}^{k}F_{2}^{i} + {}^{k}F_{3}^{i} + Mg = {}^{k}f_{1}^{i} + {}^{k}f_{2}^{i} + {}^{k}f_{3}^{i}\n",
    "$$\n",
    "\n",
    "For a moment balance, we have:\n",
    "\n",
    "$$\n",
    "    {}^{k}F_{1}^{i} - {}^{k}F_{3}^{i} - {}^{k}f_{1}^{i} + {}^{k}f_{3}^{i} = 0\n",
    "$$\n",
    "\n",
    "Note that for the moment balance, the level arm distances cancel out, such that we only need to consider the force terms.\n",
    "\n",
    "Next, we must check that the blocks below the layer $k$ are indeed supporting the weight of the layer $k$. This means that the forces must be greater than zero.\n",
    "\n",
    "$$\n",
    "    {}^{k}f_{1}^{i} > 0, {}^{k}f_{2}^{i} > 0, {}^{k}f_{3}^{i} > 0\n",
    "$$"
   ]
  },
  {
   "cell_type": "code",
   "execution_count": 4,
   "metadata": {},
   "outputs": [],
   "source": [
    "def check_forces(F1, F2, F3, f1, f2, f3, M):\n",
    "    g = 9.81\n",
    "    return (\n",
    "       f1 >=0 and f2 >=0 and f3 >=0 and\n",
    "        F1 + F2 + F3 + M*g == f1 + f2 + f3 and\n",
    "        F1 - F3 - f1 + f3 == 0\n",
    "    )"
   ]
  }
 ],
 "metadata": {
  "kernelspec": {
   "display_name": "env",
   "language": "python",
   "name": "python3"
  },
  "language_info": {
   "codemirror_mode": {
    "name": "ipython",
    "version": 3
   },
   "file_extension": ".py",
   "mimetype": "text/x-python",
   "name": "python",
   "nbconvert_exporter": "python",
   "pygments_lexer": "ipython3",
   "version": "3.11.3"
  }
 },
 "nbformat": 4,
 "nbformat_minor": 2
}
