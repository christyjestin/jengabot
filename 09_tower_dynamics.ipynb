{
 "cells": [
  {
   "cell_type": "markdown",
   "metadata": {},
   "source": [
    "# Modeling the Tower Physics\n",
    "\n",
    "## Dynamics, Statics, and Friction\n",
    "\n",
    "Rigid-body dynamics and statics of the tower block friction and deviations from nominal dimensions\n",
    "\n",
    "Because this modeling framework is more complicated,\n",
    "analytical solutions may either be intractable or suboptimal to numerical techniques. The Drake physics engine\n",
    "will be leveraged for this task and to simulate disturbances to the tower."
   ]
  },
  {
   "cell_type": "markdown",
   "metadata": {},
   "source": [
    "## Tower Parameters"
   ]
  },
  {
   "cell_type": "code",
   "execution_count": 2,
   "metadata": {},
   "outputs": [],
   "source": [
    "import numpy as np\n",
    "\n",
    "# block mass\n",
    "m = 0.01    # kg\n",
    "# block length, width, and height\n",
    "l = 0.1     # m\n",
    "w = 0.01     # m\n",
    "h = 0.01     # m\n",
    "K0 = int(18) # initial tower height\n",
    "J = int(3) # tower width\n",
    "n = J*K0 # total number of blocks\n",
    "\n",
    "# generate block \"serial numbers\"\n",
    "block_id = np.random.randint(low=10000,high=99999,size=(n,))"
   ]
  },
  {
   "cell_type": "markdown",
   "metadata": {},
   "source": [
    "## Initialize the data structure for the tower state."
   ]
  },
  {
   "cell_type": "code",
   "execution_count": 3,
   "metadata": {},
   "outputs": [],
   "source": [
    "def initialize_tower(l,w,h,K0,J):\n",
    "    # initial tower state X\n",
    "    tower_state = [[{} for _ in range(J)] for _ in range(K0)]\n",
    "\n",
    "    # Use a for loop to get the initial state of the tower\n",
    "    count=0\n",
    "    for k in range(K0):\n",
    "        for j in range(J):\n",
    "            if k%2 == 1:\n",
    "                x_cm = 0.5*l + j*l\n",
    "                y_cm = 0.5*w + j*w\n",
    "                #\n",
    "                x1 = j*l\n",
    "                x2 = (j+1)*l\n",
    "                #\n",
    "                y1 = j*w\n",
    "                y2 = (j+1)*w\n",
    "                #\n",
    "                #z1 = k*h\n",
    "                #z2 = (k+1)*h\n",
    "            else:\n",
    "                x_cm = 0.5*w + j*w\n",
    "                y_cm = 0.5*l + j*l\n",
    "                #\n",
    "                x1 = j*w\n",
    "                x2 = (j+1)*w\n",
    "                #\n",
    "                y1 = j*l\n",
    "                y2 = (j+1)*l\n",
    "            edges = [(x1,y1),(x2,y1),(x1,y2),(x2,y2)]  \n",
    "            z_cm = 0.5*h + k*h\n",
    "            tower_state[k][j] = {'block': block_id[count],\n",
    "                                 'XCM': x_cm,'YCM': y_cm, 'ZCM': z_cm,\n",
    "                                 'edges': edges,\n",
    "                                 'feasible': False} # may be incorrect on the first iteration\n",
    "            count +=1\n",
    "    return tower_state\n",
    "\n",
    "\n",
    "tower_state = initialize_tower(l,w,h,K0,J)"
   ]
  },
  {
   "cell_type": "markdown",
   "metadata": {},
   "source": [
    "## Compute the three resultant forces above any given layer."
   ]
  },
  {
   "cell_type": "markdown",
   "metadata": {},
   "source": [
    "## Check whether the tower is in static equilibrium.\n",
    "\n",
    "Firstly, we have a force balance in the vertical direction:\n",
    "\n",
    "$$\n",
    "    {}^{k}F_{1}^{i} + {}^{k}F_{2}^{i} + {}^{k}F_{3}^{i} + Mg = {}^{k}f_{1}^{i} + {}^{k}f_{2}^{i} + {}^{k}f_{3}^{i}\n",
    "$$\n",
    "\n",
    "For a moment balance, we have:\n",
    "\n",
    "$$\n",
    "    {}^{k}F_{1}^{i} - {}^{k}F_{3}^{i} - {}^{k}f_{1}^{i} + {}^{k}f_{3}^{i} = 0\n",
    "$$\n",
    "\n",
    "Note that for the moment balance, the level arm distances cancel out, such that we only need to consider the force terms.\n",
    "\n",
    "Next, we must check that the blocks below the layer $k$ are indeed supporting the weight of the layer $k$. This means that the forces must be greater than zero.\n",
    "\n",
    "$$\n",
    "    {}^{k}f_{1}^{i} > 0, {}^{k}f_{2}^{i} > 0, {}^{k}f_{3}^{i} > 0\n",
    "$$"
   ]
  },
  {
   "cell_type": "code",
   "execution_count": 4,
   "metadata": {},
   "outputs": [],
   "source": [
    "def check_forces(F1, F2, F3, f1, f2, f3, M):\n",
    "    g = 9.81\n",
    "    return (\n",
    "       f1 >=0 and f2 >=0 and f3 >=0 and\n",
    "        F1 + F2 + F3 + M*g == f1 + f2 + f3 and\n",
    "        F1 - F3 - f1 + f3 == 0\n",
    "    )\n",
    "\n"
   ]
  }
 ],
 "metadata": {
  "kernelspec": {
   "display_name": "env",
   "language": "python",
   "name": "python3"
  },
  "language_info": {
   "codemirror_mode": {
    "name": "ipython",
    "version": 3
   },
   "file_extension": ".py",
   "mimetype": "text/x-python",
   "name": "python",
   "nbconvert_exporter": "python",
   "pygments_lexer": "ipython3",
   "version": "3.11.3"
  }
 },
 "nbformat": 4,
 "nbformat_minor": 2
}
