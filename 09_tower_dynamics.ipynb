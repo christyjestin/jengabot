{
 "cells": [
  {
   "cell_type": "markdown",
   "metadata": {},
   "source": [
    "# Modeling the Tower Physics\n",
    "\n",
    "## Dynamics, Statics, and Friction\n",
    "\n",
    "Rigid-body dynamics and statics of the tower block friction and deviations from nominal dimensions\n",
    "\n",
    "Because this modeling framework is more complicated,\n",
    "analytical solutions may either be intractable or suboptimal to numerical techniques. The Drake physics engine\n",
    "will be leveraged for this task and to simulate disturbances to the tower."
   ]
  }
 ],
 "metadata": {
  "language_info": {
   "name": "python"
  }
 },
 "nbformat": 4,
 "nbformat_minor": 2
}
