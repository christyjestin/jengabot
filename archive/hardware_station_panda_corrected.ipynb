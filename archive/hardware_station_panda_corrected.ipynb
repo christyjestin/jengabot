{
 "cells": [
  {
   "cell_type": "markdown",
   "metadata": {
    "cell_id": "ad08c6c04c3b4c9b9d4802e2b3635a9d",
    "colab_type": "text",
    "deepnote_cell_type": "markdown",
    "id": "EgiF12Hf1Dhs"
   },
   "source": [
    "# **Input and Output Ports of the Hardware Station**\n"
   ]
  },
  {
   "cell_type": "code",
   "execution_count": 6,
   "metadata": {
    "cell_id": "cd98b2fbe9e94d87ae9d73bfa10a053f",
    "deepnote_cell_type": "code",
    "deepnote_to_be_reexecuted": false,
    "execution_millis": 1382,
    "execution_start": 1694649838332,
    "source_hash": "861df43f"
   },
   "outputs": [],
   "source": [
    "import numpy as np\n",
    "from IPython.display import HTML\n",
    "from pydrake.all import StartMeshcat, namedview\n",
    "from pydrake.systems.framework import GenerateHtml"
   ]
  },
  {
   "cell_type": "code",
   "execution_count": 7,
   "metadata": {
    "cell_id": "9bc994cbd6184954b775a27e18f5d87c",
    "deepnote_cell_type": "code",
    "deepnote_to_be_reexecuted": false,
    "execution_millis": 170,
    "execution_start": 1694649839664,
    "lines_to_next_cell": 2,
    "source_hash": "be34c379"
   },
   "outputs": [],
   "source": [
    "from manipulation.exercises.grader import Grader\n",
    "from manipulation.exercises.robot.test_hardware_station_io import (\n",
    "    TestHardwareStationIO,\n",
    ")\n",
    "from manipulation.station import MakeHardwareStation, load_scenario"
   ]
  },
  {
   "cell_type": "code",
   "execution_count": 8,
   "metadata": {
    "cell_id": "7df34b9152414629b02ab99775afe7c9",
    "deepnote_cell_type": "code",
    "deepnote_to_be_reexecuted": false,
    "execution_millis": 115,
    "execution_start": 1694649839837,
    "source_hash": "67118576"
   },
   "outputs": [
    {
     "name": "stderr",
     "output_type": "stream",
     "text": [
      "INFO:drake:Meshcat listening for connections at http://localhost:7005\n"
     ]
    }
   ],
   "source": [
    "meshcat = StartMeshcat()"
   ]
  },
  {
   "cell_type": "markdown",
   "metadata": {
    "cell_id": "fcefa5ef1eab412eb4fd3634ac49c1b1",
    "colab_type": "text",
    "deepnote_cell_type": "markdown",
    "id": "bClJCCHTKBb5"
   },
   "source": [
    "## Access System Input/Output Values\n",
    "In this exercise, you will explore the [`HardwareStation`](http://manipulation.mit.edu/robot.html#hardware_station) that was mentioned during the lecture. You should recall that the orange ports are the ones that do not exist for the actual hardware platform.\n",
    "\n",
    "<html>\n",
    "<table align=\"center\" cellpadding=\"0\" cellspacing=\"0\"><tbody><tr align=\"center\"><td style=\"vertical-align:middle\"><table cellspacing=\"0\" cellpadding=\"0\"><tbody><tr><td align=\"right\" style=\"padding:5px 0px 5px 0px\">iiwa.position→</td></tr><tr><td align=\"right\" style=\"padding:5px 0px 5px 0px\">iiwa.feedforward_torque (optional)→</td></tr><tr><td align=\"right\" style=\"padding:5px 0px 5px 0px\">wsg.position→</td></tr><tr><td align=\"right\" style=\"padding:5px 0px 5px 0px\">wsg.force_limit (optional)→</td></tr></tbody></table></td><td align=\"center\" style=\"border:solid;padding-left:20px;padding-right:20px;vertical-align:middle\" bgcolor=\"#F0F0F0\"><a href=\"https://github.com/RussTedrake/manipulation/blob/ceb817b527cbf1826c5b9a573ffbef415cb0f013/manipulation/scenarios.py#L453\">HardwareStation</a></td><td style=\"vertical-align:middle\"><table cellspacing=\"0\" cellpadding=\"0\"><tbody><tr><td align=\"left\" style=\"padding:5px 0px 5px 0px\">→ iiwa.position_commanded</td></tr><tr><td align=\"left\" style=\"padding:5px 0px 5px 0px\">→ iiwa.position_measured</td></tr><tr><td align=\"left\" style=\"padding:5px 0px 5px 0px\">→ iiwa.velocity_estimated</td></tr><tr><td align=\"left\" style=\"padding:5px 0px 5px 0px\">→ iiwa.state_estimated</td></tr><tr><td align=\"left\" style=\"padding:5px 0px 5px 0px\">→ iiwa.torque_commanded</td></tr><tr><td align=\"left\" style=\"padding:5px 0px 5px 0px\">→ iiwa.torque_measured</td></tr><tr><td align=\"left\" style=\"padding:5px 0px 5px 0px\">→ iiwa.torque_external</td></tr><tr><td align=\"left\" style=\"padding:5px 0px 5px 0px\">→ wsg.state_measured</td></tr><tr><td align=\"left\" style=\"padding:5px 0px 5px 0px\">→ wsg.force_measured</td></tr><tr><td align=\"left\" style=\"padding:5px 0px 5px 0px\">→ camera_[NAME].rgb_image</td></tr><tr><td align=\"left\" style=\"padding:5px 0px 5px 0px\">→ camera_[NAME].depth_image</td></tr><tr><td align=\"left\" style=\"padding:5px 0px 5px 0px\">→ <b style=\"color:orange\">camera_[NAME].label_image</b></td></tr><tr><td align=\"left\" style=\"padding:5px 0px 5px 0px\">→ ...</td></tr><tr><td align=\"left\" style=\"padding:5px 0px 5px 0px\">→ camera_[NAME].rgb_image</td></tr><tr><td align=\"left\" style=\"padding:5px 0px 5px 0px\">→ camera_[NAME].depth_image</td></tr><tr><td align=\"left\" style=\"padding:5px 0px 5px 0px\">→ <b style=\"color:orange\">camera_[NAME].label_image</b></td></tr><tr><td align=\"left\" style=\"padding:5px 0px 5px 0px\">→ <b style=\"color:orange\">query_object</b></td></tr><tr><td align=\"left\" style=\"padding:5px 0px 5px 0px\">→ <b style=\"color:orange\">contact_results</b></td></tr><tr><td align=\"left\" style=\"padding:5px 0px 5px 0px\">→ <b style=\"color:orange\">plant_continuous_state</b></td></tr><tr><td align=\"left\" style=\"padding:5px 0px 5px 0px\">→ <b style=\"color:orange\">body_poses</b></td></tr></tbody></table></td></tr></tbody></table>\n",
    "</html>\n",
    "\n",
    "Now we construct a `HardwareStation` object and finalize the system setting. To get a sense of what this hardware station scenario looks like, you can open the meshcat viewer from the generated link as usual. There should be a bookshelf and a Kuka arm with a gripper attached (it might take a few seconds to load)."
   ]
  },
  {
   "cell_type": "code",
   "execution_count": 9,
   "metadata": {
    "cell_id": "12b9400538104ddb9f764e17c899b0f7",
    "colab": {},
    "colab_type": "code",
    "deepnote_cell_type": "code",
    "deepnote_to_be_reexecuted": false,
    "execution_millis": 11295,
    "execution_start": 1694649840233,
    "id": "SN1HkYCy8VJo",
    "source_hash": "ecc33078"
   },
   "outputs": [
    {
     "ename": "AttributeError",
     "evalue": "'list' object has no attribute 'items'",
     "output_type": "error",
     "traceback": [
      "\u001b[0;31m---------------------------------------------------------------------------\u001b[0m",
      "\u001b[0;31mAttributeError\u001b[0m                            Traceback (most recent call last)",
      "\u001b[1;32m/Users/davidbombara/Documents/ComputationalRoboticsCode/jengabot/hardware_station_panda_corrected.ipynb Cell 6\u001b[0m line \u001b[0;36m1\n\u001b[1;32m      <a href='vscode-notebook-cell:/Users/davidbombara/Documents/ComputationalRoboticsCode/jengabot/hardware_station_panda_corrected.ipynb#W5sZmlsZQ%3D%3D?line=0'>1</a>\u001b[0m scenario_data \u001b[39m=\u001b[39m \u001b[39m\"\"\"\u001b[39m\n\u001b[1;32m      <a href='vscode-notebook-cell:/Users/davidbombara/Documents/ComputationalRoboticsCode/jengabot/hardware_station_panda_corrected.ipynb#W5sZmlsZQ%3D%3D?line=1'>2</a>\u001b[0m \u001b[39mdirectives:\u001b[39m\n\u001b[1;32m      <a href='vscode-notebook-cell:/Users/davidbombara/Documents/ComputationalRoboticsCode/jengabot/hardware_station_panda_corrected.ipynb#W5sZmlsZQ%3D%3D?line=2'>3</a>\u001b[0m \u001b[39m- add_directives:\u001b[39m\n\u001b[0;32m   (...)\u001b[0m\n\u001b[1;32m     <a href='vscode-notebook-cell:/Users/davidbombara/Documents/ComputationalRoboticsCode/jengabot/hardware_station_panda_corrected.ipynb#W5sZmlsZQ%3D%3D?line=10'>11</a>\u001b[0m \u001b[39m    path: \u001b[39m\u001b[39m\"\u001b[39m\u001b[39mpanda_arm_hand.urdf\u001b[39m\u001b[39m\"\u001b[39m\n\u001b[1;32m     <a href='vscode-notebook-cell:/Users/davidbombara/Documents/ComputationalRoboticsCode/jengabot/hardware_station_panda_corrected.ipynb#W5sZmlsZQ%3D%3D?line=11'>12</a>\u001b[0m \u001b[39m\"\"\"\u001b[39m\n\u001b[0;32m---> <a href='vscode-notebook-cell:/Users/davidbombara/Documents/ComputationalRoboticsCode/jengabot/hardware_station_panda_corrected.ipynb#W5sZmlsZQ%3D%3D?line=13'>14</a>\u001b[0m scenario \u001b[39m=\u001b[39m load_scenario(data\u001b[39m=\u001b[39;49mscenario_data)\n\u001b[1;32m     <a href='vscode-notebook-cell:/Users/davidbombara/Documents/ComputationalRoboticsCode/jengabot/hardware_station_panda_corrected.ipynb#W5sZmlsZQ%3D%3D?line=14'>15</a>\u001b[0m station \u001b[39m=\u001b[39m MakeHardwareStation(scenario, meshcat\u001b[39m=\u001b[39mmeshcat)\n\u001b[1;32m     <a href='vscode-notebook-cell:/Users/davidbombara/Documents/ComputationalRoboticsCode/jengabot/hardware_station_panda_corrected.ipynb#W5sZmlsZQ%3D%3D?line=15'>16</a>\u001b[0m context \u001b[39m=\u001b[39m station\u001b[39m.\u001b[39mCreateDefaultContext()\n",
      "File \u001b[0;32m~/Documents/ComputationalRoboticsCode/jengabot/env/lib/python3.11/site-packages/manipulation/station.py:168\u001b[0m, in \u001b[0;36mload_scenario\u001b[0;34m(filename, data, scenario_name, defaults)\u001b[0m\n\u001b[1;32m    160\u001b[0m     result \u001b[39m=\u001b[39m yaml_load_typed(\n\u001b[1;32m    161\u001b[0m         schema\u001b[39m=\u001b[39mScenario,\n\u001b[1;32m    162\u001b[0m         filename\u001b[39m=\u001b[39mfilename,\n\u001b[0;32m   (...)\u001b[0m\n\u001b[1;32m    165\u001b[0m         retain_map_defaults\u001b[39m=\u001b[39m\u001b[39mTrue\u001b[39;00m,\n\u001b[1;32m    166\u001b[0m     )\n\u001b[1;32m    167\u001b[0m \u001b[39mif\u001b[39;00m data:\n\u001b[0;32m--> 168\u001b[0m     result \u001b[39m=\u001b[39m yaml_load_typed(\n\u001b[1;32m    169\u001b[0m         schema\u001b[39m=\u001b[39;49mScenario,\n\u001b[1;32m    170\u001b[0m         data\u001b[39m=\u001b[39;49mdata,\n\u001b[1;32m    171\u001b[0m         child_name\u001b[39m=\u001b[39;49mscenario_name,\n\u001b[1;32m    172\u001b[0m         defaults\u001b[39m=\u001b[39;49mresult,\n\u001b[1;32m    173\u001b[0m         retain_map_defaults\u001b[39m=\u001b[39;49m\u001b[39mTrue\u001b[39;49;00m,\n\u001b[1;32m    174\u001b[0m     )\n\u001b[1;32m    175\u001b[0m \u001b[39mreturn\u001b[39;00m result\n",
      "File \u001b[0;32m~/Documents/ComputationalRoboticsCode/jengabot/env/lib/python3.11/site-packages/pydrake/common/yaml.py:484\u001b[0m, in \u001b[0;36myaml_load_typed\u001b[0;34m(schema, data, filename, child_name, defaults, allow_yaml_with_no_schema, allow_schema_with_no_yaml, retain_map_defaults)\u001b[0m\n\u001b[1;32m    481\u001b[0m     root_node \u001b[39m=\u001b[39m document\n\u001b[1;32m    483\u001b[0m \u001b[39m# Merge the document into the result.\u001b[39;00m\n\u001b[0;32m--> 484\u001b[0m _merge_yaml_dict_into_target(\n\u001b[1;32m    485\u001b[0m     options\u001b[39m=\u001b[39;49moptions, yaml_dict\u001b[39m=\u001b[39;49mroot_node,\n\u001b[1;32m    486\u001b[0m     target\u001b[39m=\u001b[39;49mresult, target_schema\u001b[39m=\u001b[39;49mschema)\n\u001b[1;32m    487\u001b[0m \u001b[39mreturn\u001b[39;00m result\n",
      "File \u001b[0;32m~/Documents/ComputationalRoboticsCode/jengabot/env/lib/python3.11/site-packages/pydrake/common/yaml.py:419\u001b[0m, in \u001b[0;36m_merge_yaml_dict_into_target\u001b[0;34m(options, yaml_dict, target, target_schema)\u001b[0m\n\u001b[1;32m    414\u001b[0m \u001b[39melse\u001b[39;00m:\n\u001b[1;32m    415\u001b[0m     \u001b[39m# Errors for non-Optional missing yaml data have already been\u001b[39;00m\n\u001b[1;32m    416\u001b[0m     \u001b[39m# implemented above (see \"missing_yaml_names\"), so we should just\u001b[39;00m\n\u001b[1;32m    417\u001b[0m     \u001b[39m# skip over those fields here. They will remain unchanged.\u001b[39;00m\n\u001b[1;32m    418\u001b[0m     \u001b[39mcontinue\u001b[39;00m\n\u001b[0;32m--> 419\u001b[0m _merge_yaml_dict_item_into_target(\n\u001b[1;32m    420\u001b[0m     options\u001b[39m=\u001b[39;49moptions, name\u001b[39m=\u001b[39;49mname, yaml_value\u001b[39m=\u001b[39;49msub_value,\n\u001b[1;32m    421\u001b[0m     target\u001b[39m=\u001b[39;49mtarget, value_schema\u001b[39m=\u001b[39;49msub_schema)\n",
      "File \u001b[0;32m~/Documents/ComputationalRoboticsCode/jengabot/env/lib/python3.11/site-packages/pydrake/common/yaml.py:298\u001b[0m, in \u001b[0;36m_merge_yaml_dict_item_into_target\u001b[0;34m(options, name, yaml_value, target, value_schema)\u001b[0m\n\u001b[1;32m    296\u001b[0m \u001b[39melse\u001b[39;00m:\n\u001b[1;32m    297\u001b[0m     new_value \u001b[39m=\u001b[39m \u001b[39mdict\u001b[39m()\n\u001b[0;32m--> 298\u001b[0m \u001b[39mfor\u001b[39;00m sub_key, sub_yaml_value \u001b[39min\u001b[39;00m yaml_value\u001b[39m.\u001b[39;49mitems():\n\u001b[1;32m    299\u001b[0m     \u001b[39m# In case the sub_key does not exist in the map, insert it.\u001b[39;00m\n\u001b[1;32m    300\u001b[0m     \u001b[39mif\u001b[39;00m sub_key \u001b[39mnot\u001b[39;00m \u001b[39min\u001b[39;00m new_value:\n\u001b[1;32m    301\u001b[0m         new_value[sub_key] \u001b[39m=\u001b[39m _create_from_schema(\n\u001b[1;32m    302\u001b[0m             schema\u001b[39m=\u001b[39mvalue_type,\n\u001b[1;32m    303\u001b[0m             forthcoming_value\u001b[39m=\u001b[39msub_yaml_value)\n",
      "\u001b[0;31mAttributeError\u001b[0m: 'list' object has no attribute 'items'"
     ]
    }
   ],
   "source": [
    "scenario_data = \"\"\"\n",
    "directives:\n",
    "- add_directives:\n",
    "    file: package://manipulation/clutter.dmd.yaml\n",
    "model_drivers:\n",
    "#    iiwa: !IiwaDriver\n",
    "#      hand_model_name: wsg\n",
    "#    wsg: !SchunkWsgDriver {}\n",
    "- load_model:\n",
    "    name: \"panda\"\n",
    "    path: \"panda_arm_hand.urdf\"\n",
    "\"\"\"\n",
    "\n",
    "scenario = load_scenario(data=scenario_data)\n",
    "station = MakeHardwareStation(scenario, meshcat=meshcat)\n",
    "context = station.CreateDefaultContext()\n"
   ]
  },
  {
   "cell_type": "markdown",
   "metadata": {
    "cell_id": "43cc119a2d6446d5ac3ecba72517077a",
    "colab_type": "text",
    "deepnote_cell_type": "markdown",
    "id": "82VsgQ938k7v"
   },
   "source": [
    "[**Context**](https://drake.mit.edu/pydrake/pydrake.systems.framework.html?highlight=context#pydrake.systems.framework.Context_) is an abstract class template that represents all the typed values that are used in a System’s computations: time, numeric-valued input ports, numerical state, and numerical parameters. There are also type-erased abstract state variables, abstract-valued input ports, abstract parameters, and a double accuracy setting. It is important to note that a **Context** is designed to be used only with the System that created it. State and Parameter data can be copied between contexts for compatible systems as necessary. One of the most common mistakes is to pass the wrong context. Most methods in Drake should throw an error if you pass a context from the wrong system, but a few do not perform this check yet.\n",
    "\n",
    "In the cell below, we first create a root context from the diagram, and then we retrieve the contexts of the subsystems from the root context."
   ]
  },
  {
   "cell_type": "code",
   "execution_count": null,
   "metadata": {
    "cell_id": "b25bd7ff20994e46b6dcf8908d790256",
    "colab": {},
    "colab_type": "code",
    "deepnote_cell_type": "code",
    "deepnote_to_be_reexecuted": false,
    "execution_millis": 8,
    "execution_start": 1694649851530,
    "id": "BS7uvKcIjwp0",
    "source_hash": "c60d8c5b"
   },
   "outputs": [],
   "source": [
    "# initialize context\n",
    "station_context = station.CreateDefaultContext()\n",
    "plant = station.GetSubsystemByName(\"plant\")\n",
    "plant_context = plant.GetMyContextFromRoot(station_context)"
   ]
  },
  {
   "cell_type": "markdown",
   "metadata": {
    "cell_id": "cc7ecfdb54f44a09aebf819bea2d2f96",
    "colab_type": "text",
    "deepnote_cell_type": "markdown",
    "id": "_AuF4TWGlbFp"
   },
   "source": [
    "In this exercise, you will familiarize yourself with the input and output mechanism from the hardware station system. Remember you can always generate a schematic view of your system by running the cell below. By clicking the \"+\" sign on the manipulation_station, you can get a more detailed view of the diverse modules within the hardware station. (You might need to run the cell twice to see the diagram)"
   ]
  },
  {
   "cell_type": "code",
   "execution_count": null,
   "metadata": {
    "cell_id": "1379bd79603d46efb33ec45dcea4bb2e",
    "colab": {},
    "colab_type": "code",
    "deepnote_cell_type": "code",
    "deepnote_to_be_reexecuted": false,
    "execution_millis": 342,
    "execution_start": 1694649851536,
    "id": "OvSvFZH4_9Ni",
    "source_hash": "7753adf4"
   },
   "outputs": [
    {
     "name": "stderr",
     "output_type": "stream",
     "text": [
      "/var/folders/c0/jfh1p3f53dg3c5jwvx1gfvx80000gp/T/ipykernel_7591/3340321670.py:2: DrakeDeprecationWarning: (Deprecated.)\n",
      "\n",
      "Deprecated:\n",
      "    This feature has been removed from Drake. This will be removed\n",
      "    from Drake on or after 2024-01-01.\n",
      "  HTML(gojs + GenerateHtml(station))\n"
     ]
    },
    {
     "data": {
      "text/html": [
       "<script src=\"https://unpkg.com/gojs/release/go.js\"></script>\n",
       "<div style='height:400px;' id='myDiagramDiv'>\n",
       "The implementation of GenerateHtml has been permanently removed from Drake due\n",
       "to licensing restrictions.\n",
       "</div>\n"
      ],
      "text/plain": [
       "<IPython.core.display.HTML object>"
      ]
     },
     "execution_count": 14,
     "metadata": {},
     "output_type": "execute_result"
    }
   ],
   "source": [
    "gojs = '"
   ]
  },
  {
   "cell_type": "markdown",
   "metadata": {
    "cell_id": "c56c23f0a43d4cb0aab0ec9c2bad38f2",
    "colab_type": "text",
    "deepnote_cell_type": "markdown",
    "id": "FKDGlrCFqb15"
   },
   "source": [
    "Now if we set the joint position of the Kuka arm, we should expect to get the same values from the `iiwa.position_measured port`, which can be found from the output ports of `station` object. Below we demonstrate how this can be done using Drake's syntax. You may also find it useful to review the `System` class documentation [here](https://drake.mit.edu/pydrake/pydrake.systems.framework.html?highlight=output_port#pydrake.systems.framework.System_)."
   ]
  },
  {
   "cell_type": "code",
   "execution_count": null,
   "metadata": {
    "cell_id": "d711c06a59984ad1825f049e467ae3fd",
    "colab": {},
    "colab_type": "code",
    "deepnote_cell_type": "code",
    "deepnote_to_be_reexecuted": false,
    "execution_millis": 84,
    "execution_start": 1694649851556,
    "id": "PwWvrx1_cPLl",
    "source_hash": "d29b1934"
   },
   "outputs": [
    {
     "data": {
      "text/plain": [
       "array([-1.57,  0.1 ,  0.  , -1.2 ,  0.  ,  1.6 ,  0.  ])"
      ]
     },
     "execution_count": 7,
     "metadata": {},
     "output_type": "execute_result"
    }
   ],
   "source": [
    "# provide initial states\n",
    "q0 = np.array([-1.57, 0.1, 0, -1.2, 0, 1.6, 0])\n",
    "iiwa = plant.GetModelInstanceByName(\"iiwa\")\n",
    "# set the joint positions of the kuka arm\n",
    "plant.SetPositions(plant_context, iiwa, q0)\n",
    "# examine the output port\n",
    "station.GetOutputPort(\"iiwa.position_measured\").Eval(station_context)"
   ]
  },
  {
   "cell_type": "markdown",
   "metadata": {
    "cell_id": "e7b646258fc74cc58c8b5c66651c0cd2",
    "deepnote_cell_type": "markdown"
   },
   "source": [
    "Note that the [output port](https://drake.mit.edu/pydrake/pydrake.systems.framework.html?highlight=outputport#pydrake.systems.framework.OutputPort) named `iiwa.position_measured` is first retrieved from the station and then evaluated using **Eval** method. This is a very common approach to read the values of a selected output port.\n"
   ]
  },
  {
   "cell_type": "markdown",
   "metadata": {
    "cell_id": "538676ac5ffe45198c656f755a2e1cb6",
    "deepnote_cell_type": "markdown"
   },
   "source": [
    "*Drake advice:* use `nameview` to refer to positions by name."
   ]
  },
  {
   "cell_type": "code",
   "execution_count": null,
   "metadata": {
    "cell_id": "7971b3500ca24f60b1939c57048cd799",
    "deepnote_cell_type": "code",
    "deepnote_to_be_reexecuted": false,
    "execution_millis": 21,
    "execution_start": 1694649851642,
    "source_hash": "eacadc63"
   },
   "outputs": [
    {
     "name": "stdout",
     "output_type": "stream",
     "text": [
      "IiwaPositions(iiwa_joint_1=-1.57, iiwa_joint_2=0.1, iiwa_joint_3=0, iiwa_joint_4=-1.2, iiwa_joint_5=0, iiwa_joint_6=1.6, iiwa_joint_7=0)\n"
     ]
    }
   ],
   "source": [
    "IiwaPositionView = namedview(\n",
    "    \"IiwaPositions\",\n",
    "    plant.GetPositionNames(iiwa, always_add_suffix=False),\n",
    ")\n",
    "q0 = IiwaPositionView.Zero()\n",
    "q0.iiwa_joint_1 = -1.57\n",
    "q0.iiwa_joint_2 = 0.1\n",
    "q0.iiwa_joint_4 = -1.2\n",
    "q0.iiwa_joint_6 = 1.6\n",
    "print(q0)\n",
    "plant.SetPositions(plant_context, iiwa, q0[:])"
   ]
  },
  {
   "cell_type": "markdown",
   "metadata": {
    "cell_id": "4b3b6fd94bf04cd7a5f0f8e73dc36add",
    "colab_type": "text",
    "deepnote_cell_type": "markdown",
    "id": "8d7sH3kzrnYL"
   },
   "source": [
    "Sometimes, when working directly with a `MultibodyPlant`, you may retrieve the joint angles directly from the **plant**. But this will not work when we're running on real hardware. Use the input and output ports to properly leverage the \"sim 2 real\" abstraction."
   ]
  },
  {
   "cell_type": "code",
   "execution_count": null,
   "metadata": {
    "cell_id": "561615cdca42433dad5d9a1091107c80",
    "colab": {},
    "colab_type": "code",
    "deepnote_cell_type": "code",
    "deepnote_to_be_reexecuted": false,
    "execution_millis": 39,
    "execution_start": 1694649851643,
    "id": "gbpZuVa_axTY",
    "source_hash": "d8d04822"
   },
   "outputs": [
    {
     "name": "stdout",
     "output_type": "stream",
     "text": [
      "[-1.57  0.1   0.   -1.2   0.    1.6   0.  ]\n"
     ]
    }
   ],
   "source": [
    "print(plant.GetPositions(plant_context, iiwa))"
   ]
  },
  {
   "cell_type": "markdown",
   "metadata": {
    "cell_id": "676635d297e844b8a8a33d54036fb49c",
    "colab_type": "text",
    "deepnote_cell_type": "markdown",
    "id": "Ey-t3M_Usun3"
   },
   "source": [
    "# Exercise a: Code Submission\n",
    "Now, it's your time to code! Use **GetOutputPort** and **Eval** to retrieve the joint velocities from the \"iiwa_velocity_estimated\" output port. Note that we have set the velocities for you."
   ]
  },
  {
   "cell_type": "code",
   "execution_count": null,
   "metadata": {
    "cell_id": "5e2335e6248b4780a3c8bd15f95ee6c7",
    "colab": {},
    "colab_type": "code",
    "deepnote_cell_type": "code",
    "deepnote_to_be_reexecuted": false,
    "execution_millis": 36,
    "execution_start": 1694649851677,
    "id": "A34DVaMRcVKV",
    "source_hash": "ab33b83b"
   },
   "outputs": [],
   "source": [
    "plant.SetVelocities(\n",
    "    plant_context,\n",
    "    iiwa,\n",
    "    np.zeros(\n",
    "        7,\n",
    "    ),\n",
    ")"
   ]
  },
  {
   "cell_type": "markdown",
   "metadata": {
    "cell_id": "04cef4f40977406cb19afb8ec4fc27a3",
    "colab_type": "text",
    "deepnote_cell_type": "markdown",
    "id": "449kizGfUuwR"
   },
   "source": [
    "Below, `get_velocity(station, station_context)` is the function you must modify to query values from \"iiwa_velocity_estimated\"."
   ]
  },
  {
   "cell_type": "code",
   "execution_count": null,
   "metadata": {
    "cell_id": "7cd3a2e6dfff489fb9c54ea1e6127dbf",
    "colab": {},
    "colab_type": "code",
    "deepnote_cell_type": "code",
    "deepnote_to_be_reexecuted": false,
    "execution_millis": 5,
    "execution_start": 1694650054701,
    "id": "RWa-mQwKRG4z",
    "source_hash": "5135807f"
   },
   "outputs": [],
   "source": [
    "def get_velocity(station, station_context):\n",
    "    \"\"\"\n",
    "    fill in your code in this method\n",
    "    \"\"\"\n",
    "    velocity_estimated = station.GetOutputPort(\"iiwa.velocity_estimated\").Eval(station_context)\n",
    "    return velocity_estimated"
   ]
  },
  {
   "cell_type": "markdown",
   "metadata": {
    "cell_id": "02ea7d6bdaa74e4989a5fd9ee1587378",
    "colab_type": "text",
    "deepnote_cell_type": "markdown",
    "id": "EEbQAd8SuvzQ"
   },
   "source": [
    "Please note that the `iiwa.position_commanded` and the `iiwa.position_measured` are NOT the same variable. The `iiwa.position_commanded` are the commanded positions sent to the robot, whereas the `iiwa.positions` are the current positions of the simulated robot. We also expect to have different values for the feed-forward torque (system input) and the commanded torque (system output). Next, you will investigate why. First, let us provide a zero feed-forward torque to the `iiwa.feedforward_torque` port."
   ]
  },
  {
   "cell_type": "code",
   "execution_count": null,
   "metadata": {
    "cell_id": "479558d9e8ad4747b72a356a319fe25d",
    "colab": {},
    "colab_type": "code",
    "deepnote_cell_type": "code",
    "deepnote_to_be_reexecuted": false,
    "execution_millis": 23,
    "execution_start": 1694650075626,
    "id": "gDV6v7YMlKzl",
    "source_hash": "5c694b7f"
   },
   "outputs": [
    {
     "name": "stdout",
     "output_type": "stream",
     "text": [
      "feedforward torque: [0. 0. 0. 0. 0. 0. 0.]\n",
      "commanded torque with no feedforward torque:[ 215.83027562 -285.82565154  194.20019567  258.26699515   36.90660859\n",
      " -152.0079284   -73.75860787]\n"
     ]
    }
   ],
   "source": [
    "station.GetInputPort(\"iiwa.feedforward_torque\").FixValue(\n",
    "    station_context,\n",
    "    np.zeros(\n",
    "        7,\n",
    "    ),\n",
    ")\n",
    "tau_no_ff = station.GetOutputPort(\"iiwa.torque_commanded\").Eval(\n",
    "    station_context\n",
    ")\n",
    "print(\n",
    "    \"feedforward torque: {}\".format(\n",
    "        np.zeros(\n",
    "            7,\n",
    "        )\n",
    "    )\n",
    ")\n",
    "print(\"commanded torque with no feedforward torque:{}\".format(tau_no_ff))"
   ]
  },
  {
   "cell_type": "markdown",
   "metadata": {
    "cell_id": "12a9c03fe6674d168dd78501b425c6c1",
    "colab_type": "text",
    "deepnote_cell_type": "markdown",
    "id": "WDP0uoxtvtrq"
   },
   "source": [
    "Now try the same experiment with a non-zero feedforward torque as shown below."
   ]
  },
  {
   "cell_type": "code",
   "execution_count": null,
   "metadata": {
    "cell_id": "4e7605f155184bfc8cb9bb3880b6dc52",
    "colab": {},
    "colab_type": "code",
    "deepnote_cell_type": "code",
    "deepnote_to_be_reexecuted": false,
    "execution_millis": 63,
    "execution_start": 1694650082253,
    "id": "zRxNOJKTfDbT",
    "source_hash": "e753a6ee"
   },
   "outputs": [
    {
     "name": "stdout",
     "output_type": "stream",
     "text": [
      "feedforward torque: [3.1 3.2 3.3 3.4 3.5 3.6 3.7]\n",
      "the commanded torque: [ 218.93027562 -282.62565154  197.50019567  261.66699515   40.40660859\n",
      " -148.4079284   -70.05860787]\n"
     ]
    }
   ],
   "source": [
    "tau_ff = np.linspace(3.1, 3.7, 7)\n",
    "print(\"feedforward torque: {}\".format(tau_ff))\n",
    "station.GetInputPort(\"iiwa.feedforward_torque\").FixValue(\n",
    "    station_context, tau_ff\n",
    ")\n",
    "torque_commanded = station.GetOutputPort(\"iiwa.torque_commanded\").Eval(\n",
    "    station_context\n",
    ")\n",
    "print(\"the commanded torque: {}\".format(torque_commanded))"
   ]
  }
 ],
 "metadata": {
  "deepnote": {},
  "deepnote_execution_queue": [],
  "deepnote_notebook_id": "9d80abc8a45c49359ad858a6f5eb15d5",
  "kernelspec": {
   "display_name": "Python 3.10.6 64-bit",
   "language": "python",
   "name": "python3"
  },
  "language_info": {
   "codemirror_mode": {
    "name": "ipython",
    "version": 3
   },
   "file_extension": ".py",
   "mimetype": "text/x-python",
   "name": "python",
   "nbconvert_exporter": "python",
   "pygments_lexer": "ipython3",
   "version": "3.11.3"
  }
 },
 "nbformat": 4,
 "nbformat_minor": 0
}
