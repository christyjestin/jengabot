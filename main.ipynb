{
 "cells": [
  {
   "cell_type": "code",
   "execution_count": 1,
   "metadata": {},
   "outputs": [],
   "source": [
    "import os\n",
    "\n",
    "from pydrake.geometry import StartMeshcat\n",
    "from pydrake.systems.analysis import Simulator\n",
    "from pydrake.visualization import ModelVisualizer\n",
    "from pydrake.all import Simulator, StartMeshcat\n",
    "\n",
    "from manipulation import running_as_notebook\n",
    "from manipulation.station import MakeHardwareStation, load_scenario"
   ]
  },
  {
   "cell_type": "code",
   "execution_count": 2,
   "metadata": {},
   "outputs": [
    {
     "name": "stderr",
     "output_type": "stream",
     "text": [
      "INFO:drake:Meshcat listening for connections at http://localhost:7001\n"
     ]
    }
   ],
   "source": [
    "meshcat = StartMeshcat()"
   ]
  },
  {
   "cell_type": "code",
   "execution_count": 3,
   "metadata": {},
   "outputs": [
    {
     "data": {
      "text/plain": [
       "'\\n            - add_model:\\n                name: block_0\\n                file: /models/jenga_block.sdf\\n                default_free_body_pose:\\n                    jenga_block_link:\\n                        translation: [-0.025, 0, 0.0]\\n                        rotation: !Rpy { deg: [0, 0, 0] }\\n            \\n            - add_model:\\n                name: block_1\\n                file: /models/jenga_block.sdf\\n                default_free_body_pose:\\n                    jenga_block_link:\\n                        translation: [0.0, 0, 0.0]\\n                        rotation: !Rpy { deg: [0, 0, 0] }\\n            \\n            - add_model:\\n                name: block_2\\n                file: /models/jenga_block.sdf\\n                default_free_body_pose:\\n                    jenga_block_link:\\n                        translation: [0.025, 0, 0.0]\\n                        rotation: !Rpy { deg: [0, 0, 0] }\\n            \\n            - add_model:\\n                name: block_3\\n                file: /models/jenga_block.sdf\\n                default_free_body_pose:\\n                    jenga_block_link:\\n                        translation: [0, -0.025, 0.015]\\n                        rotation: !Rpy { deg: [0, 0, 90] }\\n            \\n            - add_model:\\n                name: block_4\\n                file: /models/jenga_block.sdf\\n                default_free_body_pose:\\n                    jenga_block_link:\\n                        translation: [0, 0.0, 0.015]\\n                        rotation: !Rpy { deg: [0, 0, 90] }\\n            \\n            - add_model:\\n                name: block_5\\n                file: /models/jenga_block.sdf\\n                default_free_body_pose:\\n                    jenga_block_link:\\n                        translation: [0, 0.025, 0.015]\\n                        rotation: !Rpy { deg: [0, 0, 90] }\\n            \\n            - add_model:\\n                name: block_6\\n                file: /models/jenga_block.sdf\\n                default_free_body_pose:\\n                    jenga_block_link:\\n                        translation: [-0.025, 0, 0.03]\\n                        rotation: !Rpy { deg: [0, 0, 0] }\\n            \\n            - add_model:\\n                name: block_7\\n                file: /models/jenga_block.sdf\\n                default_free_body_pose:\\n                    jenga_block_link:\\n                        translation: [0.0, 0, 0.03]\\n                        rotation: !Rpy { deg: [0, 0, 0] }\\n            \\n            - add_model:\\n                name: block_8\\n                file: /models/jenga_block.sdf\\n                default_free_body_pose:\\n                    jenga_block_link:\\n                        translation: [0.025, 0, 0.03]\\n                        rotation: !Rpy { deg: [0, 0, 0] }\\n            \\n            - add_model:\\n                name: block_9\\n                file: /models/jenga_block.sdf\\n                default_free_body_pose:\\n                    jenga_block_link:\\n                        translation: [0, -0.025, 0.045]\\n                        rotation: !Rpy { deg: [0, 0, 90] }\\n            \\n            - add_model:\\n                name: block_10\\n                file: /models/jenga_block.sdf\\n                default_free_body_pose:\\n                    jenga_block_link:\\n                        translation: [0, 0.0, 0.045]\\n                        rotation: !Rpy { deg: [0, 0, 90] }\\n            \\n            - add_model:\\n                name: block_11\\n                file: /models/jenga_block.sdf\\n                default_free_body_pose:\\n                    jenga_block_link:\\n                        translation: [0, 0.025, 0.045]\\n                        rotation: !Rpy { deg: [0, 0, 90] }\\n            \\n            - add_model:\\n                name: block_12\\n                file: /models/jenga_block.sdf\\n                default_free_body_pose:\\n                    jenga_block_link:\\n                        translation: [-0.025, 0, 0.06]\\n                        rotation: !Rpy { deg: [0, 0, 0] }\\n            \\n            - add_model:\\n                name: block_13\\n                file: /models/jenga_block.sdf\\n                default_free_body_pose:\\n                    jenga_block_link:\\n                        translation: [0.0, 0, 0.06]\\n                        rotation: !Rpy { deg: [0, 0, 0] }\\n            \\n            - add_model:\\n                name: block_14\\n                file: /models/jenga_block.sdf\\n                default_free_body_pose:\\n                    jenga_block_link:\\n                        translation: [0.025, 0, 0.06]\\n                        rotation: !Rpy { deg: [0, 0, 0] }\\n            \\n            - add_model:\\n                name: block_15\\n                file: /models/jenga_block.sdf\\n                default_free_body_pose:\\n                    jenga_block_link:\\n                        translation: [0, -0.025, 0.075]\\n                        rotation: !Rpy { deg: [0, 0, 90] }\\n            \\n            - add_model:\\n                name: block_16\\n                file: /models/jenga_block.sdf\\n                default_free_body_pose:\\n                    jenga_block_link:\\n                        translation: [0, 0.0, 0.075]\\n                        rotation: !Rpy { deg: [0, 0, 90] }\\n            \\n            - add_model:\\n                name: block_17\\n                file: /models/jenga_block.sdf\\n                default_free_body_pose:\\n                    jenga_block_link:\\n                        translation: [0, 0.025, 0.075]\\n                        rotation: !Rpy { deg: [0, 0, 90] }\\n            \\n            - add_model:\\n                name: block_18\\n                file: /models/jenga_block.sdf\\n                default_free_body_pose:\\n                    jenga_block_link:\\n                        translation: [-0.025, 0, 0.09]\\n                        rotation: !Rpy { deg: [0, 0, 0] }\\n            \\n            - add_model:\\n                name: block_19\\n                file: /models/jenga_block.sdf\\n                default_free_body_pose:\\n                    jenga_block_link:\\n                        translation: [0.0, 0, 0.09]\\n                        rotation: !Rpy { deg: [0, 0, 0] }\\n            \\n            - add_model:\\n                name: block_20\\n                file: /models/jenga_block.sdf\\n                default_free_body_pose:\\n                    jenga_block_link:\\n                        translation: [0.025, 0, 0.09]\\n                        rotation: !Rpy { deg: [0, 0, 0] }\\n            \\n            - add_model:\\n                name: block_21\\n                file: /models/jenga_block.sdf\\n                default_free_body_pose:\\n                    jenga_block_link:\\n                        translation: [0, -0.025, 0.105]\\n                        rotation: !Rpy { deg: [0, 0, 90] }\\n            \\n            - add_model:\\n                name: block_22\\n                file: /models/jenga_block.sdf\\n                default_free_body_pose:\\n                    jenga_block_link:\\n                        translation: [0, 0.0, 0.105]\\n                        rotation: !Rpy { deg: [0, 0, 90] }\\n            \\n            - add_model:\\n                name: block_23\\n                file: /models/jenga_block.sdf\\n                default_free_body_pose:\\n                    jenga_block_link:\\n                        translation: [0, 0.025, 0.105]\\n                        rotation: !Rpy { deg: [0, 0, 90] }\\n            \\n            - add_model:\\n                name: block_24\\n                file: /models/jenga_block.sdf\\n                default_free_body_pose:\\n                    jenga_block_link:\\n                        translation: [-0.025, 0, 0.12]\\n                        rotation: !Rpy { deg: [0, 0, 0] }\\n            \\n            - add_model:\\n                name: block_25\\n                file: /models/jenga_block.sdf\\n                default_free_body_pose:\\n                    jenga_block_link:\\n                        translation: [0.0, 0, 0.12]\\n                        rotation: !Rpy { deg: [0, 0, 0] }\\n            \\n            - add_model:\\n                name: block_26\\n                file: /models/jenga_block.sdf\\n                default_free_body_pose:\\n                    jenga_block_link:\\n                        translation: [0.025, 0, 0.12]\\n                        rotation: !Rpy { deg: [0, 0, 0] }\\n            \\n            - add_model:\\n                name: block_27\\n                file: /models/jenga_block.sdf\\n                default_free_body_pose:\\n                    jenga_block_link:\\n                        translation: [0, -0.025, 0.135]\\n                        rotation: !Rpy { deg: [0, 0, 90] }\\n            \\n            - add_model:\\n                name: block_28\\n                file: /models/jenga_block.sdf\\n                default_free_body_pose:\\n                    jenga_block_link:\\n                        translation: [0, 0.0, 0.135]\\n                        rotation: !Rpy { deg: [0, 0, 90] }\\n            \\n            - add_model:\\n                name: block_29\\n                file: /models/jenga_block.sdf\\n                default_free_body_pose:\\n                    jenga_block_link:\\n                        translation: [0, 0.025, 0.135]\\n                        rotation: !Rpy { deg: [0, 0, 90] }\\n            \\n            - add_model:\\n                name: block_30\\n                file: /models/jenga_block.sdf\\n                default_free_body_pose:\\n                    jenga_block_link:\\n                        translation: [-0.025, 0, 0.15]\\n                        rotation: !Rpy { deg: [0, 0, 0] }\\n            \\n            - add_model:\\n                name: block_31\\n                file: /models/jenga_block.sdf\\n                default_free_body_pose:\\n                    jenga_block_link:\\n                        translation: [0.0, 0, 0.15]\\n                        rotation: !Rpy { deg: [0, 0, 0] }\\n            \\n            - add_model:\\n                name: block_32\\n                file: /models/jenga_block.sdf\\n                default_free_body_pose:\\n                    jenga_block_link:\\n                        translation: [0.025, 0, 0.15]\\n                        rotation: !Rpy { deg: [0, 0, 0] }\\n            \\n            - add_model:\\n                name: block_33\\n                file: /models/jenga_block.sdf\\n                default_free_body_pose:\\n                    jenga_block_link:\\n                        translation: [0, -0.025, 0.16499999999999998]\\n                        rotation: !Rpy { deg: [0, 0, 90] }\\n            \\n            - add_model:\\n                name: block_34\\n                file: /models/jenga_block.sdf\\n                default_free_body_pose:\\n                    jenga_block_link:\\n                        translation: [0, 0.0, 0.16499999999999998]\\n                        rotation: !Rpy { deg: [0, 0, 90] }\\n            \\n            - add_model:\\n                name: block_35\\n                file: /models/jenga_block.sdf\\n                default_free_body_pose:\\n                    jenga_block_link:\\n                        translation: [0, 0.025, 0.16499999999999998]\\n                        rotation: !Rpy { deg: [0, 0, 90] }\\n            \\n            - add_model:\\n                name: block_36\\n                file: /models/jenga_block.sdf\\n                default_free_body_pose:\\n                    jenga_block_link:\\n                        translation: [-0.025, 0, 0.18]\\n                        rotation: !Rpy { deg: [0, 0, 0] }\\n            \\n            - add_model:\\n                name: block_37\\n                file: /models/jenga_block.sdf\\n                default_free_body_pose:\\n                    jenga_block_link:\\n                        translation: [0.0, 0, 0.18]\\n                        rotation: !Rpy { deg: [0, 0, 0] }\\n            \\n            - add_model:\\n                name: block_38\\n                file: /models/jenga_block.sdf\\n                default_free_body_pose:\\n                    jenga_block_link:\\n                        translation: [0.025, 0, 0.18]\\n                        rotation: !Rpy { deg: [0, 0, 0] }\\n            \\n            - add_model:\\n                name: block_39\\n                file: /models/jenga_block.sdf\\n                default_free_body_pose:\\n                    jenga_block_link:\\n                        translation: [0, -0.025, 0.195]\\n                        rotation: !Rpy { deg: [0, 0, 90] }\\n            \\n            - add_model:\\n                name: block_40\\n                file: /models/jenga_block.sdf\\n                default_free_body_pose:\\n                    jenga_block_link:\\n                        translation: [0, 0.0, 0.195]\\n                        rotation: !Rpy { deg: [0, 0, 90] }\\n            \\n            - add_model:\\n                name: block_41\\n                file: /models/jenga_block.sdf\\n                default_free_body_pose:\\n                    jenga_block_link:\\n                        translation: [0, 0.025, 0.195]\\n                        rotation: !Rpy { deg: [0, 0, 90] }\\n            \\n            - add_model:\\n                name: block_42\\n                file: /models/jenga_block.sdf\\n                default_free_body_pose:\\n                    jenga_block_link:\\n                        translation: [-0.025, 0, 0.21]\\n                        rotation: !Rpy { deg: [0, 0, 0] }\\n            \\n            - add_model:\\n                name: block_43\\n                file: /models/jenga_block.sdf\\n                default_free_body_pose:\\n                    jenga_block_link:\\n                        translation: [0.0, 0, 0.21]\\n                        rotation: !Rpy { deg: [0, 0, 0] }\\n            \\n            - add_model:\\n                name: block_44\\n                file: /models/jenga_block.sdf\\n                default_free_body_pose:\\n                    jenga_block_link:\\n                        translation: [0.025, 0, 0.21]\\n                        rotation: !Rpy { deg: [0, 0, 0] }\\n            \\n            - add_model:\\n                name: block_45\\n                file: /models/jenga_block.sdf\\n                default_free_body_pose:\\n                    jenga_block_link:\\n                        translation: [0, -0.025, 0.22499999999999998]\\n                        rotation: !Rpy { deg: [0, 0, 90] }\\n            \\n            - add_model:\\n                name: block_46\\n                file: /models/jenga_block.sdf\\n                default_free_body_pose:\\n                    jenga_block_link:\\n                        translation: [0, 0.0, 0.22499999999999998]\\n                        rotation: !Rpy { deg: [0, 0, 90] }\\n            \\n            - add_model:\\n                name: block_47\\n                file: /models/jenga_block.sdf\\n                default_free_body_pose:\\n                    jenga_block_link:\\n                        translation: [0, 0.025, 0.22499999999999998]\\n                        rotation: !Rpy { deg: [0, 0, 90] }\\n            \\n            - add_model:\\n                name: block_48\\n                file: /models/jenga_block.sdf\\n                default_free_body_pose:\\n                    jenga_block_link:\\n                        translation: [-0.025, 0, 0.24]\\n                        rotation: !Rpy { deg: [0, 0, 0] }\\n            \\n            - add_model:\\n                name: block_49\\n                file: /models/jenga_block.sdf\\n                default_free_body_pose:\\n                    jenga_block_link:\\n                        translation: [0.0, 0, 0.24]\\n                        rotation: !Rpy { deg: [0, 0, 0] }\\n            \\n            - add_model:\\n                name: block_50\\n                file: /models/jenga_block.sdf\\n                default_free_body_pose:\\n                    jenga_block_link:\\n                        translation: [0.025, 0, 0.24]\\n                        rotation: !Rpy { deg: [0, 0, 0] }\\n            \\n            - add_model:\\n                name: block_51\\n                file: /models/jenga_block.sdf\\n                default_free_body_pose:\\n                    jenga_block_link:\\n                        translation: [0, -0.025, 0.255]\\n                        rotation: !Rpy { deg: [0, 0, 90] }\\n            \\n            - add_model:\\n                name: block_52\\n                file: /models/jenga_block.sdf\\n                default_free_body_pose:\\n                    jenga_block_link:\\n                        translation: [0, 0.0, 0.255]\\n                        rotation: !Rpy { deg: [0, 0, 90] }\\n            \\n            - add_model:\\n                name: block_53\\n                file: /models/jenga_block.sdf\\n                default_free_body_pose:\\n                    jenga_block_link:\\n                        translation: [0, 0.025, 0.255]\\n                        rotation: !Rpy { deg: [0, 0, 90] }\\n            '"
      ]
     },
     "execution_count": 3,
     "metadata": {},
     "output_type": "execute_result"
    }
   ],
   "source": [
    "def make_stack():\n",
    "    output = ''\n",
    "    num_layers = 18\n",
    "    num_blocks_per_layer = 3\n",
    "    block_width = 0.025\n",
    "    block_height = 0.015\n",
    "    for i in range(num_layers):\n",
    "        # alternate block orientations\n",
    "        layer_in_x_direction = i % 2 == 0\n",
    "        for j in range(num_blocks_per_layer):\n",
    "            x = (block_width * (j - 1)) if layer_in_x_direction else 0\n",
    "            y = 0 if layer_in_x_direction else (block_width * (j - 1))\n",
    "            z = block_height * i\n",
    "            orientation = \"{ deg: [0, 0, 0] }\" if layer_in_x_direction else \"{ deg: [0, 0, 90] }\"\n",
    "            output += f\"\"\"\n",
    "            - add_model:\n",
    "                name: block_{i * 3 + j}\n",
    "                file: /models/jenga_block.sdf\n",
    "                default_free_body_pose:\n",
    "                    jenga_block_link:\n",
    "                        translation: [{x}, {y}, {z}]\n",
    "                        rotation: !Rpy {orientation}\n",
    "            \"\"\"\n",
    "    return output\n",
    "\n",
    "make_stack()"
   ]
  },
  {
   "cell_type": "code",
   "execution_count": 4,
   "metadata": {},
   "outputs": [
    {
     "ename": "RuntimeError",
     "evalue": "error: URI '/models/table_top.sdf' is invalid when parsing a string instead of a filename.",
     "output_type": "error",
     "traceback": [
      "\u001b[0;31m---------------------------------------------------------------------------\u001b[0m",
      "\u001b[0;31mRuntimeError\u001b[0m                              Traceback (most recent call last)",
      "\u001b[1;32m/Users/davidbombara/Documents/ComputationalRoboticsCode/jengabot/main.ipynb Cell 4\u001b[0m line \u001b[0;36m2\n\u001b[1;32m     <a href='vscode-notebook-cell:/Users/davidbombara/Documents/ComputationalRoboticsCode/jengabot/main.ipynb#W3sZmlsZQ%3D%3D?line=16'>17</a>\u001b[0m     simulator\u001b[39m.\u001b[39mAdvanceTo(\u001b[39m2.0\u001b[39m \u001b[39mif\u001b[39;00m running_as_notebook \u001b[39melse\u001b[39;00m \u001b[39m0.1\u001b[39m)\n\u001b[1;32m     <a href='vscode-notebook-cell:/Users/davidbombara/Documents/ComputationalRoboticsCode/jengabot/main.ipynb#W3sZmlsZQ%3D%3D?line=17'>18</a>\u001b[0m     meshcat\u001b[39m.\u001b[39mPublishRecording()\n\u001b[0;32m---> <a href='vscode-notebook-cell:/Users/davidbombara/Documents/ComputationalRoboticsCode/jengabot/main.ipynb#W3sZmlsZQ%3D%3D?line=19'>20</a>\u001b[0m create_scene()\n",
      "\u001b[1;32m/Users/davidbombara/Documents/ComputationalRoboticsCode/jengabot/main.ipynb Cell 4\u001b[0m line \u001b[0;36m1\n\u001b[1;32m      <a href='vscode-notebook-cell:/Users/davidbombara/Documents/ComputationalRoboticsCode/jengabot/main.ipynb#W3sZmlsZQ%3D%3D?line=1'>2</a>\u001b[0m scenario_data \u001b[39m=\u001b[39m \u001b[39mf\u001b[39m\u001b[39m\"\"\"\u001b[39m\n\u001b[1;32m      <a href='vscode-notebook-cell:/Users/davidbombara/Documents/ComputationalRoboticsCode/jengabot/main.ipynb#W3sZmlsZQ%3D%3D?line=2'>3</a>\u001b[0m \u001b[39mdirectives:\u001b[39m\n\u001b[1;32m      <a href='vscode-notebook-cell:/Users/davidbombara/Documents/ComputationalRoboticsCode/jengabot/main.ipynb#W3sZmlsZQ%3D%3D?line=3'>4</a>\u001b[0m \u001b[39m- add_model:\u001b[39m\n\u001b[0;32m   (...)\u001b[0m\n\u001b[1;32m      <a href='vscode-notebook-cell:/Users/davidbombara/Documents/ComputationalRoboticsCode/jengabot/main.ipynb#W3sZmlsZQ%3D%3D?line=8'>9</a>\u001b[0m \u001b[39m    child: table_top::table_top_center\u001b[39m\n\u001b[1;32m     <a href='vscode-notebook-cell:/Users/davidbombara/Documents/ComputationalRoboticsCode/jengabot/main.ipynb#W3sZmlsZQ%3D%3D?line=9'>10</a>\u001b[0m \u001b[39m\u001b[39m\u001b[39m\"\"\"\u001b[39m\n\u001b[1;32m     <a href='vscode-notebook-cell:/Users/davidbombara/Documents/ComputationalRoboticsCode/jengabot/main.ipynb#W3sZmlsZQ%3D%3D?line=11'>12</a>\u001b[0m scenario \u001b[39m=\u001b[39m load_scenario(data\u001b[39m=\u001b[39mscenario_data)\n\u001b[0;32m---> <a href='vscode-notebook-cell:/Users/davidbombara/Documents/ComputationalRoboticsCode/jengabot/main.ipynb#W3sZmlsZQ%3D%3D?line=12'>13</a>\u001b[0m station \u001b[39m=\u001b[39m MakeHardwareStation(scenario, meshcat)\n\u001b[1;32m     <a href='vscode-notebook-cell:/Users/davidbombara/Documents/ComputationalRoboticsCode/jengabot/main.ipynb#W3sZmlsZQ%3D%3D?line=14'>15</a>\u001b[0m simulator \u001b[39m=\u001b[39m Simulator(station)\n\u001b[1;32m     <a href='vscode-notebook-cell:/Users/davidbombara/Documents/ComputationalRoboticsCode/jengabot/main.ipynb#W3sZmlsZQ%3D%3D?line=15'>16</a>\u001b[0m meshcat\u001b[39m.\u001b[39mStartRecording()\n",
      "File \u001b[0;32m~/Documents/ComputationalRoboticsCode/jengabot/env/lib/python3.11/site-packages/manipulation/station.py:661\u001b[0m, in \u001b[0;36mMakeHardwareStation\u001b[0;34m(scenario, meshcat, package_xmls, hardware, parser_preload_callback, parser_prefinalize_callback)\u001b[0m\n\u001b[1;32m    658\u001b[0m     parser_preload_callback(parser)\n\u001b[1;32m    660\u001b[0m \u001b[39m# Add model directives.\u001b[39;00m\n\u001b[0;32m--> 661\u001b[0m added_models \u001b[39m=\u001b[39m ProcessModelDirectives(\n\u001b[1;32m    662\u001b[0m     directives\u001b[39m=\u001b[39;49mModelDirectives(directives\u001b[39m=\u001b[39;49mscenario\u001b[39m.\u001b[39;49mdirectives),\n\u001b[1;32m    663\u001b[0m     parser\u001b[39m=\u001b[39;49mparser,\n\u001b[1;32m    664\u001b[0m )\n\u001b[1;32m    666\u001b[0m \u001b[39mif\u001b[39;00m parser_prefinalize_callback:\n\u001b[1;32m    667\u001b[0m     parser_prefinalize_callback(parser)\n",
      "\u001b[0;31mRuntimeError\u001b[0m: error: URI '/models/table_top.sdf' is invalid when parsing a string instead of a filename."
     ]
    }
   ],
   "source": [
    "def create_scene():\n",
    "    scenario_data = f\"\"\"\n",
    "    directives:\n",
    "    - add_model:\n",
    "        name: table_top\n",
    "        file: /models/table_top.sdf\n",
    "    - add_weld:\n",
    "        parent: world\n",
    "        child: table_top::table_top_center\n",
    "    \"\"\"\n",
    "\n",
    "    scenario = load_scenario(data=scenario_data)\n",
    "    station = MakeHardwareStation(scenario, meshcat)\n",
    "\n",
    "    simulator = Simulator(station)\n",
    "    meshcat.StartRecording()\n",
    "    simulator.AdvanceTo(2.0 if running_as_notebook else 0.1)\n",
    "    meshcat.PublishRecording()\n",
    "\n",
    "create_scene()"
   ]
  }
 ],
 "metadata": {
  "kernelspec": {
   "display_name": "env",
   "language": "python",
   "name": "python3"
  },
  "language_info": {
   "codemirror_mode": {
    "name": "ipython",
    "version": 3
   },
   "file_extension": ".py",
   "mimetype": "text/x-python",
   "name": "python",
   "nbconvert_exporter": "python",
   "pygments_lexer": "ipython3",
   "version": "3.11.3"
  }
 },
 "nbformat": 4,
 "nbformat_minor": 2
}
