{
 "cells": [
  {
   "cell_type": "code",
   "execution_count": 22,
   "metadata": {},
   "outputs": [],
   "source": [
    "import os\n",
    "\n",
    "from pydrake.geometry import StartMeshcat\n",
    "from pydrake.systems.analysis import Simulator\n",
    "from pydrake.visualization import ModelVisualizer\n",
    "from pydrake.all import Simulator, StartMeshcat\n",
    "\n",
    "from manipulation import running_as_notebook\n",
    "from manipulation.station import MakeHardwareStation, load_scenario"
   ]
  },
  {
   "cell_type": "code",
   "execution_count": 23,
   "metadata": {},
   "outputs": [
    {
     "name": "stderr",
     "output_type": "stream",
     "text": [
      "INFO:drake:Meshcat listening for connections at http://localhost:7006\n"
     ]
    }
   ],
   "source": [
    "meshcat = StartMeshcat()"
   ]
  },
  {
   "cell_type": "code",
   "execution_count": 24,
   "metadata": {},
   "outputs": [],
   "source": [
    "def create_scene():\n",
    "    scenario_data = f\"\"\"\n",
    "directives:\n",
    "- add_model:\n",
    "    name: table_top\n",
    "    file: package://jengabot/models/table_top.sdf\n",
    "- add_weld:\n",
    "    parent: world\n",
    "    child: table_top::table_top_center\n",
    "\"\"\"\n",
    "\n",
    "    scenario = load_scenario(data=scenario_data)\n",
    "    station = MakeHardwareStation(scenario, meshcat, package_xmls=['./package.xml'])\n",
    "\n",
    "    simulator = Simulator(station)\n",
    "    meshcat.StartRecording()\n",
    "    simulator.AdvanceTo(2.0 if running_as_notebook else 0.1)\n",
    "    meshcat.PublishRecording()\n",
    "\n",
    "\n",
    "create_scene()"
   ]
  }
 ],
 "metadata": {
  "kernelspec": {
   "display_name": "env",
   "language": "python",
   "name": "python3"
  },
  "language_info": {
   "codemirror_mode": {
    "name": "ipython",
    "version": 3
   },
   "file_extension": ".py",
   "mimetype": "text/x-python",
   "name": "python",
   "nbconvert_exporter": "python",
   "pygments_lexer": "ipython3",
   "version": "3.11.3"
  }
 },
 "nbformat": 4,
 "nbformat_minor": 2
}
