{
 "cells": [
  {
   "cell_type": "markdown",
   "metadata": {},
   "source": [
    "# Environment and Simulation Setup\n",
    "## Initial Component Placement for the Simulation\n",
    "This task may be trivial, but nonetheless necessary for the execution of the project’s other tasks. If the Jenga tower is initially unassembled, this task can also include the assembly process."
   ]
  },
  {
   "cell_type": "code",
   "execution_count": 1,
   "metadata": {},
   "outputs": [],
   "source": [
    "import os\n",
    "import pydot\n",
    "\n",
    "from pydrake.geometry import StartMeshcat\n",
    "from pydrake.systems.analysis import Simulator\n",
    "from pydrake.visualization import ModelVisualizer\n",
    "from pydrake.all import Simulator, StartMeshcat, DiagramBuilder, MeshcatVisualizer\n",
    "\n",
    "from manipulation import running_as_notebook\n",
    "from manipulation.station import MakeHardwareStation, load_scenario"
   ]
  },
  {
   "cell_type": "code",
   "execution_count": 2,
   "metadata": {},
   "outputs": [
    {
     "name": "stderr",
     "output_type": "stream",
     "text": [
      "INFO:drake:Meshcat listening for connections at http://localhost:7006\n"
     ]
    }
   ],
   "source": [
    "meshcat = StartMeshcat()"
   ]
  },
  {
   "cell_type": "code",
   "execution_count": 3,
   "metadata": {},
   "outputs": [],
   "source": [
    "def make_stack():\n",
    "    output = ''\n",
    "    num_layers = 18 # actual number is 18, but use a smaller number to speed up sim setup\n",
    "    num_blocks_per_layer = 3\n",
    "    block_width = 0.025\n",
    "    block_height = 0.015\n",
    "    for i in range(num_layers):\n",
    "        # alternate block orientations\n",
    "        layer_in_x_direction = i % 2 == 0\n",
    "        for j in range(num_blocks_per_layer):\n",
    "            x = (block_width * (j - 1)) if layer_in_x_direction else 0\n",
    "            y = 0 if layer_in_x_direction else (block_width * (j - 1))\n",
    "            z = block_height * (i + 0.5)\n",
    "            orientation = \"{ deg: [0, 0, 0] }\" if layer_in_x_direction else \"{ deg: [0, 0, 90] }\"\n",
    "            output += f\"\"\"\n",
    "- add_model:\n",
    "    name: block_{i * 3 + j}\n",
    "    file: package://jengabot/models/jenga_block.sdf\n",
    "    default_free_body_pose:\n",
    "        jenga_block_link:\n",
    "            translation: [{x}, {y}, {z}]\n",
    "            rotation: !Rpy {orientation}\"\"\"\n",
    "    return output"
   ]
  },
  {
   "cell_type": "code",
   "execution_count": null,
   "metadata": {},
   "outputs": [],
   "source": [
    "def create_scene():\n",
    "    scenario_data = \"\"\"\n",
    "directives:\n",
    "- add_model:\n",
    "    name: table_top\n",
    "    file: package://jengabot/models/table_top.sdf\n",
    "- add_weld:\n",
    "    parent: world\n",
    "    child: table_top::table_top_link\n",
    "\"\"\"\n",
    "\n",
    "    camera_data = \"\"\"\n",
    "    - add_frame:\n",
    "        name: camera0_origin\n",
    "        X_PF:\n",
    "            base_frame: world\n",
    "            rotation: !Rpy { deg: [0, 0, 0]}\n",
    "            translation: [0, 1, 1]\n",
    "    cameras:\n",
    "        camera0:\n",
    "        name: camera0\n",
    "        depth: True\n",
    "        X_PB:\n",
    "            base_frame: camera0_origin\n",
    "    \"\"\"\n",
    "\n",
    "    scenario_data += make_stack()\n",
    "    # scenario_data += camera_data\n",
    "    print(scenario_data)\n",
    "    \n",
    "    scenario = load_scenario(data=scenario_data)\n",
    "    builder = DiagramBuilder()\n",
    "    \n",
    "    station = MakeHardwareStation(scenario, meshcat, package_xmls=['./package.xml'])\n",
    "    #station = builder.AddSystem(MakeHardwareStation(scenario, meshcat, package_xmls=['./package.xml']))\n",
    "    #context = station.CreateDefaultContext()\n",
    "\n",
    "\n",
    "    simulator = Simulator(station)\n",
    "\n",
    "    \n",
    "    \n",
    "    meshcat.StartRecording()\n",
    "    simulator.AdvanceTo(2.0 if running_as_notebook else 0.1)\n",
    "    meshcat.PublishRecording()\n",
    "\n",
    "\n",
    "create_scene()"
   ]
  }
 ],
 "metadata": {
  "kernelspec": {
   "display_name": "env",
   "language": "python",
   "name": "python3"
  },
  "language_info": {
   "codemirror_mode": {
    "name": "ipython",
    "version": 3
   },
   "file_extension": ".py",
   "mimetype": "text/x-python",
   "name": "python",
   "nbconvert_exporter": "python",
   "pygments_lexer": "ipython3",
   "version": "3.11.3"
  }
 },
 "nbformat": 4,
 "nbformat_minor": 2
}
