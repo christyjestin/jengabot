{
 "cells": [
  {
   "cell_type": "code",
   "execution_count": null,
   "metadata": {},
   "outputs": [],
   "source": [
    "import os\n",
    "\n",
    "from pydrake.geometry import StartMeshcat\n",
    "from pydrake.systems.analysis import Simulator\n",
    "from pydrake.visualization import ModelVisualizer\n",
    "from pydrake.all import Simulator, StartMeshcat\n",
    "\n",
    "from manipulation import running_as_notebook\n",
    "from manipulation.station import MakeHardwareStation, load_scenario"
   ]
  },
  {
   "cell_type": "code",
   "execution_count": null,
   "metadata": {},
   "outputs": [],
   "source": [
    "meshcat = StartMeshcat()"
   ]
  },
  {
   "cell_type": "code",
   "execution_count": null,
   "metadata": {},
   "outputs": [],
   "source": [
    "def make_stack():\n",
    "    output = ''\n",
    "    num_layers = 18\n",
    "    num_blocks_per_layer = 3\n",
    "    block_width = 0.2\n",
    "    block_height = 0.1\n",
    "    for i in range(num_layers):\n",
    "        # alternate block orientations\n",
    "        for j in range(num_blocks_per_layer):\n",
    "            layer_in_x_direction = i % 2 == 0\n",
    "            x = (block_width * (j - 1)) if layer_in_x_direction else 0\n",
    "            y = 0 if layer_in_x_direction else (block_width * (j - 1))\n",
    "            z = block_height * i\n",
    "            orientation = \"{ deg: [0, 0, 90] }\" if layer_in_x_direction else \"{ deg: [0, 0, 0] }\" # TODO: adjust based on sdf\n",
    "            output += f\"\"\"\n",
    "            - add_model:\n",
    "                name: block_{i * 3 + j}\n",
    "                file: file://block.sdf\n",
    "                default_free_body_pose:\n",
    "                    base_link_airpod:\n",
    "                        translation: [{x}, {y}, {z}]\n",
    "                        rotation: !Rpy {orientation}\n",
    "            \"\"\"\n",
    "    return output"
   ]
  },
  {
   "cell_type": "code",
   "execution_count": null,
   "metadata": {},
   "outputs": [],
   "source": [
    "def create_scene():\n",
    "    scenario_data = f\"\"\"\n",
    "directives:\n",
    "- add_model:\n",
    "    name: table_top\n",
    "    file: file://models/table_top.sdf\n",
    "- add_weld:\n",
    "    parent: world\n",
    "    child: table_top::table_top_center\n",
    "- add_model:\n",
    "    name: your_model\n",
    "    file: file://{your_model_filename}\n",
    "    default_free_body_pose:\n",
    "        base_link_airpod:\n",
    "            translation: [0.2, -0.3, 0.46]\n",
    "            rotation: !Rpy {{ deg: [0, 0, 0] }}\n",
    "\"\"\"\n",
    "\n",
    "    scenario = load_scenario(data=scenario_data)\n",
    "    station = MakeHardwareStation(scenario, meshcat)\n",
    "\n",
    "    simulator = Simulator(station)\n",
    "    meshcat.StartRecording()\n",
    "    simulator.AdvanceTo(2.0 if running_as_notebook else 0.1)\n",
    "    meshcat.PublishRecording()\n",
    "\n",
    "\n",
    "create_scene()"
   ]
  }
 ],
 "metadata": {
  "language_info": {
   "name": "python"
  }
 },
 "nbformat": 4,
 "nbformat_minor": 2
}
