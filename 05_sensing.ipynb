{
 "cells": [
  {
   "cell_type": "markdown",
   "metadata": {},
   "source": [
    "# Sensing\n",
    "\n",
    "The problem here is to correlate block friction coefficients and their nominal dimension deviations with the fingertip force feedback. This sensing component will help the robot \"feel\" which blocks are tight versus loose, thus helping it play a move that will not topple the tower."
   ]
  },
  {
   "cell_type": "code",
   "execution_count": null,
   "metadata": {},
   "outputs": [],
   "source": []
  }
 ],
 "metadata": {
  "language_info": {
   "name": "python"
  }
 },
 "nbformat": 4,
 "nbformat_minor": 2
}
