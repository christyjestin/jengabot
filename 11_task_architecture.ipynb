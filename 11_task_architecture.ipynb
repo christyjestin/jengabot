{
 "cells": [
  {
   "cell_type": "markdown",
   "metadata": {},
   "source": [
    "# Task-Level Architecture"
   ]
  },
  {
   "cell_type": "markdown",
   "metadata": {},
   "source": [
    "Many of the tasks above may be completed independently.\n",
    "Thus, the integration of the above tasks into one simulation will a crucial but non-trivial exercise. We will organize the high-level states of the Jenga game using finite\n",
    "state machine(s) and/or behavior trees."
   ]
  },
  {
   "cell_type": "code",
   "execution_count": null,
   "metadata": {},
   "outputs": [],
   "source": []
  }
 ],
 "metadata": {
  "language_info": {
   "name": "python"
  }
 },
 "nbformat": 4,
 "nbformat_minor": 2
}
