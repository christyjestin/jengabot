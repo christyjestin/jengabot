{
 "cells": [
  {
   "cell_type": "markdown",
   "metadata": {},
   "source": [
    "# 08 - Tower Statics\n",
    "\n",
    "## Rigid-body *statics without* block friction\n",
    "\n",
    "Static equilibrium (absence external disturbances) is the most fundamental property that the tower must have in order for it to not topple. To start, masses and inertias of the blocks will be used to compute the net wrench\n",
    "(force and moment) due to gravity, without considering frictional effects or minor deviations in the blocks’ nominal dimensions."
   ]
  },
  {
   "cell_type": "code",
   "execution_count": 47,
   "metadata": {},
   "outputs": [],
   "source": [
    "import numpy as np\n",
    "\n",
    "# block mass\n",
    "m = 0.01    # kg\n",
    "# block length, width, and height\n",
    "l = 0.1     # m\n",
    "w = 0.01     # m\n",
    "h = 0.01     # m\n",
    "K0 = int(18) # initial tower height\n",
    "J = int(3) # tower width\n",
    "n = J*K0 # total number of blocks\n",
    "\n",
    "# generate block \"serial numbers\"\n",
    "block_id = np.random.randint(low=10000,high=99999,size=(n,))\n",
    "\n",
    "\n",
    "# initial tower state X\n",
    "tower_state = [[{} for _ in range(J)] for _ in range(K0)]\n",
    "\n",
    "# Use a for loop to get the initial state of the tower\n",
    "count=0\n",
    "for k in range(K0):\n",
    "    for j in range(J):\n",
    "        if k%2 == 1:\n",
    "            x_cm = 0.5*l + j*l\n",
    "            y_cm = 0.5*w + j*w\n",
    "        else:\n",
    "            x_cm = 0.5*w + j*w\n",
    "            y_cm = 0.5*l + j*l\n",
    "        z_cm = 0.5*h + k*h\n",
    "        tower_state[k][j] = {'block': block_id[count],'XCM': x_cm,'YCM': y_cm, 'ZCM': z_cm}\n",
    "        count +=1\n",
    "\n",
    "def get_cm(k_low, k_high):\n",
    "    \"\"\"\n",
    "    This function returns the center of mass of the tower by counting all blocks above row k in the tower\n",
    "    \"\"\"\n",
    "    # initialize center of mass\n",
    "    x_cm = 0\n",
    "    y_cm = 0\n",
    "    z_cm = 0\n",
    "    # loop over all blocks in the tower\n",
    "    for k in range(k_low,k_high):\n",
    "        for j in range(J):\n",
    "            # add the contribution of the jth block to the center of mass\n",
    "            x_cm += tower_state[k][j]['XCM']\n",
    "            y_cm += tower_state[k][j]['YCM']\n",
    "            z_cm += tower_state[k][j]['ZCM']\n",
    "    # divide by the number of blocks to get the average\n",
    "    x_cm /= J\n",
    "    y_cm /= J\n",
    "    z_cm /= J\n",
    "    return x_cm, y_cm, z_cm\n",
    "\n",
    "def get_area_polygon(k_middle):\n",
    "    "
   ]
  }
 ],
 "metadata": {
  "kernelspec": {
   "display_name": "env",
   "language": "python",
   "name": "python3"
  },
  "language_info": {
   "codemirror_mode": {
    "name": "ipython",
    "version": 3
   },
   "file_extension": ".py",
   "mimetype": "text/x-python",
   "name": "python",
   "nbconvert_exporter": "python",
   "pygments_lexer": "ipython3",
   "version": "3.11.3"
  }
 },
 "nbformat": 4,
 "nbformat_minor": 2
}
