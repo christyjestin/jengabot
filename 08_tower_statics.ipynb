{
 "cells": [
  {
   "cell_type": "markdown",
   "metadata": {},
   "source": [
    "# Modeling Tower Physics\n",
    "\n",
    "## Rigid-body *statics without* block friction\n",
    "\n",
    "Static equilibrium (absence external disturbances) is the most fundamental property that the tower must have in order for it to not topple. To start, masses and inertias of the blocks will be used to compute the net wrench\n",
    "(force and moment) due to gravity, without considering frictional effects or minor deviations in the blocks’ nominal dimensions."
   ]
  },
  {
   "cell_type": "code",
   "execution_count": null,
   "metadata": {},
   "outputs": [],
   "source": []
  }
 ],
 "metadata": {
  "language_info": {
   "name": "python"
  }
 },
 "nbformat": 4,
 "nbformat_minor": 2
}
