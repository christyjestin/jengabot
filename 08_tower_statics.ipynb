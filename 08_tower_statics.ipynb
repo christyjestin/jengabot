{
 "cells": [
  {
   "cell_type": "markdown",
   "metadata": {},
   "source": [
    "# Modeling Tower Physics\n",
    "\n",
    "## Rigid-body *statics without* block friction\n",
    "\n",
    "Static equilibrium (absence external disturbances) is the most fundamental property that the tower must have in order for it to not topple. To start, masses and inertias of the blocks will be used to compute the net wrench\n",
    "(force and moment) due to gravity, without considering frictional effects or minor deviations in the blocks’ nominal dimensions."
   ]
  },
  {
   "cell_type": "code",
   "execution_count": 4,
   "metadata": {},
   "outputs": [],
   "source": [
    "import numpy as np"
   ]
  },
  {
   "cell_type": "code",
   "execution_count": 7,
   "metadata": {},
   "outputs": [
    {
     "name": "stdout",
     "output_type": "stream",
     "text": [
      "[[1, 1, 1, 1], [2, 1, 1, 2], [3, 1, 1, 3], [4, 1, 1, 4], [5, 1, 1, 5], [6, 1, 1, 6], [7, 1, 1, 7], [8, 1, 1, 8], [9, 1, 1, 9], [10, 1, 1, 10], [11, 1, 1, 11], [12, 1, 1, 12], [13, 1, 1, 13], [14, 1, 1, 14], [15, 1, 1, 15], [16, 1, 1, 16], [17, 1, 1, 17], [18, 1, 1, 18], [19, 1, 1, 1], [20, 1, 2, 2], [21, 1, 1, 3], [22, 1, 2, 4], [23, 1, 1, 5], [24, 1, 2, 6], [25, 1, 1, 7], [26, 1, 2, 8], [27, 1, 1, 9], [28, 1, 2, 10], [29, 1, 1, 11], [30, 1, 2, 12], [31, 1, 1, 13], [32, 1, 2, 14], [33, 1, 1, 15], [34, 1, 2, 16], [35, 1, 1, 17], [36, 1, 2, 18], [37, 1, 1, 1], [38, 1, 3, 2], [39, 1, 1, 3], [40, 1, 3, 4], [41, 1, 1, 5], [42, 1, 3, 6], [43, 1, 1, 7], [44, 1, 3, 8], [45, 1, 1, 9], [46, 1, 3, 10], [47, 1, 1, 11], [48, 1, 3, 12], [49, 1, 1, 13], [50, 1, 3, 14], [51, 1, 1, 15], [52, 1, 3, 16], [53, 1, 1, 17], [54, 1, 3, 18], [55, 2, 1, 1], [56, 1, 1, 2], [57, 2, 1, 3], [58, 1, 1, 4], [59, 2, 1, 5], [60, 1, 1, 6], [61, 2, 1, 7], [62, 1, 1, 8], [63, 2, 1, 9], [64, 1, 1, 10], [65, 2, 1, 11], [66, 1, 1, 12], [67, 2, 1, 13], [68, 1, 1, 14], [69, 2, 1, 15], [70, 1, 1, 16], [71, 2, 1, 17], [72, 1, 1, 18], [73, 2, 1, 1], [74, 1, 2, 2], [75, 2, 1, 3], [76, 1, 2, 4], [77, 2, 1, 5], [78, 1, 2, 6], [79, 2, 1, 7], [80, 1, 2, 8], [81, 2, 1, 9], [82, 1, 2, 10], [83, 2, 1, 11], [84, 1, 2, 12], [85, 2, 1, 13], [86, 1, 2, 14], [87, 2, 1, 15], [88, 1, 2, 16], [89, 2, 1, 17], [90, 1, 2, 18], [91, 2, 1, 1], [92, 1, 3, 2], [93, 2, 1, 3], [94, 1, 3, 4], [95, 2, 1, 5], [96, 1, 3, 6], [97, 2, 1, 7], [98, 1, 3, 8], [99, 2, 1, 9], [100, 1, 3, 10], [101, 2, 1, 11], [102, 1, 3, 12], [103, 2, 1, 13], [104, 1, 3, 14], [105, 2, 1, 15], [106, 1, 3, 16], [107, 2, 1, 17], [108, 1, 3, 18], [109, 3, 1, 1], [110, 1, 1, 2], [111, 3, 1, 3], [112, 1, 1, 4], [113, 3, 1, 5], [114, 1, 1, 6], [115, 3, 1, 7], [116, 1, 1, 8], [117, 3, 1, 9], [118, 1, 1, 10], [119, 3, 1, 11], [120, 1, 1, 12], [121, 3, 1, 13], [122, 1, 1, 14], [123, 3, 1, 15], [124, 1, 1, 16], [125, 3, 1, 17], [126, 1, 1, 18], [127, 3, 1, 1], [128, 1, 2, 2], [129, 3, 1, 3], [130, 1, 2, 4], [131, 3, 1, 5], [132, 1, 2, 6], [133, 3, 1, 7], [134, 1, 2, 8], [135, 3, 1, 9], [136, 1, 2, 10], [137, 3, 1, 11], [138, 1, 2, 12], [139, 3, 1, 13], [140, 1, 2, 14], [141, 3, 1, 15], [142, 1, 2, 16], [143, 3, 1, 17], [144, 1, 2, 18], [145, 3, 1, 1], [146, 1, 3, 2], [147, 3, 1, 3], [148, 1, 3, 4], [149, 3, 1, 5], [150, 1, 3, 6], [151, 3, 1, 7], [152, 1, 3, 8], [153, 3, 1, 9], [154, 1, 3, 10], [155, 3, 1, 11], [156, 1, 3, 12], [157, 3, 1, 13], [158, 1, 3, 14], [159, 3, 1, 15], [160, 1, 3, 16], [161, 3, 1, 17], [162, 1, 3, 18]]\n"
     ]
    }
   ],
   "source": [
    "# Step: Define indices of each block. 18 rows, 3 columns.\n",
    "# i, j, k\n",
    "max_k = 18\n",
    "max_j = 3\n",
    "max_i = 3\n",
    "blockid = np.arange(1, max_k*max_i+1, 1)\n",
    "\n",
    "# the indices are a 3-element list\n",
    "# i and j are both row indices, but they determine the orientation of the block\n",
    "\n",
    "block_data_struct = []\n",
    "blockid_idx = 0\n",
    "for idx1 in range(max_i):\n",
    "    for idx2 in range(max_j):\n",
    "        for idx3 in range(max_k):\n",
    "            # if idx3 is odd, then idx1_val = 1, else idx1_val = idx1\n",
    "            # if idx3 is even, then idx2_val = 1, else idx2_val = idx2\n",
    "            if idx3 % 2 == 0:\n",
    "                idx1_val = idx1+1\n",
    "                idx2_val = 1\n",
    "            else:\n",
    "                idx1_val = 1\n",
    "                idx2_val = idx2+1\n",
    "            blockid_idx+=1\n",
    "            block_data_struct.append([blockid_idx, idx1_val, idx2_val, idx3+1])\n",
    "\n",
    "# function to compute center of mass of a single black\n",
    "def single_block_com(i, j, k):\n",
    "    # i, j, k are indices of the block, starting at 1\n",
    "    # nominal parameters\n",
    "    w = 0.04 # meters\n",
    "    l = 0.07 # meters\n",
    "    h = 0.02 # meters\n",
    "    x_com = (i-1)*l/2\n",
    "    return 0\n"
   ]
  }
 ],
 "metadata": {
  "kernelspec": {
   "display_name": "env",
   "language": "python",
   "name": "python3"
  },
  "language_info": {
   "codemirror_mode": {
    "name": "ipython",
    "version": 3
   },
   "file_extension": ".py",
   "mimetype": "text/x-python",
   "name": "python",
   "nbconvert_exporter": "python",
   "pygments_lexer": "ipython3",
   "version": "3.11.3"
  }
 },
 "nbformat": 4,
 "nbformat_minor": 2
}
