{
 "cells": [
  {
   "cell_type": "code",
   "execution_count": 1,
   "metadata": {},
   "outputs": [],
   "source": [
    "import os\n",
    "import pydot\n",
    "import numpy as np\n",
    "\n",
    "from pydrake.geometry import StartMeshcat\n",
    "from pydrake.systems.analysis import Simulator\n",
    "from IPython.display import HTML, SVG, display\n",
    "from pydrake.visualization import ModelVisualizer\n",
    "from pydrake.all import (\n",
    "  ConstantVectorSource, \n",
    "  PiecewisePose,  \n",
    "  Simulator, \n",
    "  StartMeshcat, \n",
    "  DiagramBuilder, \n",
    "  MeshcatVisualizer, \n",
    "  namedview,\n",
    "  RigidTransform, \n",
    "  RollPitchYaw, RotationMatrix, LeafSystem, AbstractValue,\n",
    ")\n",
    "from manipulation import running_as_notebook\n",
    "from manipulation.station import MakeHardwareStation, load_scenario\n",
    "from manipulation.meshcat_utils import AddMeshcatTriad\n",
    "from manipulation.scenarios import AddIiwaDifferentialIK\n",
    "# from pydrake.systems.System import CreateDefaultContext\n",
    "\n",
    "from constants import *"
   ]
  },
  {
   "cell_type": "code",
   "execution_count": 2,
   "metadata": {},
   "outputs": [
    {
     "name": "stderr",
     "output_type": "stream",
     "text": [
      "INFO:drake:Meshcat listening for connections at http://localhost:7006\n"
     ]
    }
   ],
   "source": [
    "# Start the visualizer.\n",
    "meshcat = StartMeshcat()"
   ]
  },
  {
   "cell_type": "code",
   "execution_count": 3,
   "metadata": {},
   "outputs": [],
   "source": [
    "def make_stack():\n",
    "    output = ''\n",
    "    for i in range(NUM_LAYERS):\n",
    "        # alternate block orientations\n",
    "        layer_in_x_direction = i % 2 == 0\n",
    "        for j in range(NUM_BLOCKS_PER_LAYER):\n",
    "            x = (BLOCK_WIDTH * (j - 1)) if layer_in_x_direction else 0\n",
    "            y = 0 if layer_in_x_direction else (BLOCK_WIDTH * (j - 1))\n",
    "            z = BLOCK_HEIGHT * (i + 0.5) + TABLE_HEIGHT\n",
    "            orientation = \"{ deg: [0, 0, 0] }\" if layer_in_x_direction else \"{ deg: [0, 0, 90] }\"\n",
    "            output += f\"\"\"\n",
    "- add_model:\n",
    "    name: block_{i * 3 + j}\n",
    "    file: package://jengabot/models/jenga_block.sdf\n",
    "    default_free_body_pose:\n",
    "        jenga_block_link:\n",
    "            translation: [{x}, {y}, {z}]\n",
    "            rotation: !Rpy {orientation}\"\"\"\n",
    "    return output"
   ]
  },
  {
   "cell_type": "code",
   "execution_count": 12,
   "metadata": {},
   "outputs": [],
   "source": [
    "def construct_scenario():\n",
    "    scenario_data = \"\"\"\n",
    "directives:\n",
    "- add_model:\n",
    "    name: table_top\n",
    "    file: package://jengabot/models/table_top.sdf\n",
    "- add_weld:\n",
    "    parent: world\n",
    "    child: table_top::table_top_center\n",
    "- add_model:\n",
    "    name: iiwa\n",
    "    file: package://drake/manipulation/models/iiwa_description/iiwa7/iiwa7_no_collision.sdf\n",
    "    default_joint_positions:\n",
    "        iiwa_joint_1: [0]\n",
    "        iiwa_joint_2: [-2]\n",
    "        iiwa_joint_3: [0]\n",
    "        iiwa_joint_4: [-2]\n",
    "        iiwa_joint_5: [-1.57]\n",
    "        iiwa_joint_6: [1.57]\n",
    "        iiwa_joint_7: [0]\n",
    "- add_weld:\n",
    "    parent: table_top_link\n",
    "    child: iiwa::iiwa_link_0\n",
    "    X_PC:\n",
    "        translation: [0.35, 0.5, 0.015]\n",
    "- add_model:\n",
    "    name: wsg\n",
    "    file: package://drake/manipulation/models/wsg_50_description/sdf/schunk_wsg_50_with_tip.sdf\n",
    "- add_weld:\n",
    "    parent: iiwa::iiwa_link_7\n",
    "    child: wsg::body\n",
    "    X_PC:\n",
    "        translation: [0, 0, 0.09]\n",
    "        rotation: !Rpy { deg: [90, 0, 90]}\n",
    "\"\"\"\n",
    "\n",
    "    driver_data = \"\"\"\n",
    "model_drivers:\n",
    "    iiwa: !IiwaDriver\n",
    "      hand_model_name: wsg\n",
    "    wsg: !SchunkWsgDriver {}\n",
    "\"\"\"\n",
    "\n",
    "    scenario_data += make_stack()\n",
    "    scenario_data += driver_data\n",
    "    return load_scenario(data = scenario_data)"
   ]
  },
  {
   "cell_type": "code",
   "execution_count": 13,
   "metadata": {},
   "outputs": [
    {
     "name": "stderr",
     "output_type": "stream",
     "text": [
      "INFO:drake:Meshcat listening for connections at http://localhost:7016\n"
     ]
    },
    {
     "name": "stdout",
     "output_type": "stream",
     "text": [
      "RigidTransform(\n",
      "  R=RotationMatrix([\n",
      "    [0.999999682931835, 0.0007963264582435285, 6.341362301898943e-07],\n",
      "    [0.000796326710733565, -0.9999993658637701, -0.0007963264582436738],\n",
      "    [-1.0186502315074795e-17, 0.0007963267107334821, -0.999999682931835],\n",
      "  ]),\n",
      "  p=[-0.013128548355729333, 0.32950010812022723, 0.6038851125035964],\n",
      ")\n"
     ]
    },
    {
     "name": "stderr",
     "output_type": "stream",
     "text": [
      "==== LCM Warning ===\n",
      "LCM detected that large packets are being received, but the kernel UDP\n",
      "receive buffer is very small.  The possibility of dropping packets due to\n",
      "insufficient buffer space is very high.\n",
      "\n",
      "For more information, visit:\n",
      "   http://lcm-proj.github.io/lcm/multicast_setup.html\n",
      "\n"
     ]
    },
    {
     "data": {
      "text/plain": [
       "<pydrake.systems.analysis.SimulatorStatus at 0x7fe17e7000b0>"
      ]
     },
     "execution_count": 13,
     "metadata": {},
     "output_type": "execute_result"
    }
   ],
   "source": [
    "meshcat.Delete()\n",
    "builder = DiagramBuilder()\n",
    "scenario = construct_scenario()\n",
    "station = builder.AddSystem(MakeHardwareStation(scenario, package_xmls=['./package.xml']))\n",
    "plant = station.GetSubsystemByName(\"plant\")\n",
    "diagram = builder.Build()\n",
    "simulator = Simulator(diagram)\n",
    "context = simulator.get_mutable_context()\n",
    "station_context = station.GetMyMutableContextFromRoot(context)\n",
    "plant_context = plant.GetMyMutableContextFromRoot(context)\n",
    "\n",
    "q0 = plant.GetPositions(plant_context, plant.GetModelInstanceByName(\"iiwa\"))\n",
    "station.GetInputPort(\"iiwa.position\").FixValue(station_context, q0)\n",
    "\n",
    "station.GetInputPort(\"wsg.position\").FixValue(station_context, [0])\n",
    "print(plant.EvalBodyPoseInWorld(plant_context, plant.GetBodyByName('body')))\n",
    "simulator.AdvanceTo(0.1)"
   ]
  }
 ],
 "metadata": {
  "kernelspec": {
   "display_name": "manipenv",
   "language": "python",
   "name": "python3"
  },
  "language_info": {
   "codemirror_mode": {
    "name": "ipython",
    "version": 3
   },
   "file_extension": ".py",
   "mimetype": "text/x-python",
   "name": "python",
   "nbconvert_exporter": "python",
   "pygments_lexer": "ipython3",
   "version": "3.11.4"
  }
 },
 "nbformat": 4,
 "nbformat_minor": 2
}
