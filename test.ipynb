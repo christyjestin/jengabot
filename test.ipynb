{
 "cells": [
  {
   "cell_type": "code",
   "execution_count": 5,
   "metadata": {},
   "outputs": [],
   "source": [
    "import os\n",
    "\n",
    "from pydrake.geometry import StartMeshcat\n",
    "from pydrake.systems.analysis import Simulator\n",
    "from pydrake.visualization import ModelVisualizer\n",
    "from pydrake.all import Simulator, StartMeshcat\n",
    "\n",
    "from manipulation import running_as_notebook, FindResource\n",
    "from manipulation.station import MakeHardwareStation, load_scenario"
   ]
  },
  {
   "cell_type": "code",
   "execution_count": 6,
   "metadata": {},
   "outputs": [
    {
     "name": "stderr",
     "output_type": "stream",
     "text": [
      "INFO:drake:Meshcat listening for connections at http://localhost:7002\n"
     ]
    }
   ],
   "source": [
    "meshcat = StartMeshcat()"
   ]
  },
  {
   "cell_type": "code",
   "execution_count": 7,
   "metadata": {},
   "outputs": [],
   "source": [
    "def create_scene():\n",
    "    scenario = load_scenario(filename=FindResource(\"models/clutter.scenarios.yaml\"), scenario_name=\"Clutter\")\n",
    "    station = MakeHardwareStation(scenario, meshcat)\n",
    "\n",
    "    simulator = Simulator(station)\n",
    "    meshcat.StartRecording()\n",
    "    simulator.AdvanceTo(2.0 if running_as_notebook else 0.1)\n",
    "    meshcat.PublishRecording()"
   ]
  },
  {
   "cell_type": "code",
   "execution_count": 8,
   "metadata": {},
   "outputs": [
    {
     "ename": "RuntimeError",
     "evalue": "InputPort::Eval(): required InputPort[0] (u0) of System ::station::wsg.controller::drake/systems/StateInterpolatorWithDiscreteDerivative@00000002895a1da0::drake/systems/Multiplexer@00000002895a4790 (Multiplexer<double>) is not connected",
     "output_type": "error",
     "traceback": [
      "\u001b[0;31m---------------------------------------------------------------------------\u001b[0m",
      "\u001b[0;31mRuntimeError\u001b[0m                              Traceback (most recent call last)",
      "\u001b[1;32m/Users/davidbombara/Documents/ComputationalRoboticsCode/jengabot/test.ipynb Cell 4\u001b[0m line \u001b[0;36m1\n\u001b[0;32m----> <a href='vscode-notebook-cell:/Users/davidbombara/Documents/ComputationalRoboticsCode/jengabot/test.ipynb#W3sZmlsZQ%3D%3D?line=0'>1</a>\u001b[0m create_scene()\n",
      "\u001b[1;32m/Users/davidbombara/Documents/ComputationalRoboticsCode/jengabot/test.ipynb Cell 4\u001b[0m line \u001b[0;36m7\n\u001b[1;32m      <a href='vscode-notebook-cell:/Users/davidbombara/Documents/ComputationalRoboticsCode/jengabot/test.ipynb#W3sZmlsZQ%3D%3D?line=4'>5</a>\u001b[0m simulator \u001b[39m=\u001b[39m Simulator(station)\n\u001b[1;32m      <a href='vscode-notebook-cell:/Users/davidbombara/Documents/ComputationalRoboticsCode/jengabot/test.ipynb#W3sZmlsZQ%3D%3D?line=5'>6</a>\u001b[0m meshcat\u001b[39m.\u001b[39mStartRecording()\n\u001b[0;32m----> <a href='vscode-notebook-cell:/Users/davidbombara/Documents/ComputationalRoboticsCode/jengabot/test.ipynb#W3sZmlsZQ%3D%3D?line=6'>7</a>\u001b[0m simulator\u001b[39m.\u001b[39;49mAdvanceTo(\u001b[39m2.0\u001b[39;49m \u001b[39mif\u001b[39;49;00m running_as_notebook \u001b[39melse\u001b[39;49;00m \u001b[39m0.1\u001b[39;49m)\n\u001b[1;32m      <a href='vscode-notebook-cell:/Users/davidbombara/Documents/ComputationalRoboticsCode/jengabot/test.ipynb#W3sZmlsZQ%3D%3D?line=7'>8</a>\u001b[0m meshcat\u001b[39m.\u001b[39mPublishRecording()\n",
      "\u001b[0;31mRuntimeError\u001b[0m: InputPort::Eval(): required InputPort[0] (u0) of System ::station::wsg.controller::drake/systems/StateInterpolatorWithDiscreteDerivative@00000002895a1da0::drake/systems/Multiplexer@00000002895a4790 (Multiplexer<double>) is not connected"
     ]
    }
   ],
   "source": [
    "create_scene()"
   ]
  }
 ],
 "metadata": {
  "kernelspec": {
   "display_name": "env",
   "language": "python",
   "name": "python3"
  },
  "language_info": {
   "codemirror_mode": {
    "name": "ipython",
    "version": 3
   },
   "file_extension": ".py",
   "mimetype": "text/x-python",
   "name": "python",
   "nbconvert_exporter": "python",
   "pygments_lexer": "ipython3",
   "version": "3.11.3"
  }
 },
 "nbformat": 4,
 "nbformat_minor": 2
}
